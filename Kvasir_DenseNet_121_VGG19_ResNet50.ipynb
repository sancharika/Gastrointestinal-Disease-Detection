{
  "cells": [
    {
      "cell_type": "markdown",
      "metadata": {
        "id": "eEynXN51vKBr"
      },
      "source": [
        "# Importing Libraries"
      ],
      "id": "eEynXN51vKBr"
    },
    {
      "cell_type": "code",
      "execution_count": null,
      "metadata": {
        "id": "6LjZTMOxvKBw"
      },
      "outputs": [],
      "source": [
        "# ImportError: cannot import name 'Mapping' from 'collections'"
      ],
      "id": "6LjZTMOxvKBw"
    },
    {
      "cell_type": "code",
      "execution_count": null,
      "metadata": {
        "colab": {
          "base_uri": "https://localhost:8080/"
        },
        "id": "65C5JIeTvKBy",
        "outputId": "968d20e8-419e-4ea4-83b7-c9deb884bfed"
      },
      "outputs": [
        {
          "output_type": "stream",
          "name": "stdout",
          "text": [
            "Requirement already satisfied: pandas in /usr/local/lib/python3.7/dist-packages (1.3.5)\n",
            "Requirement already satisfied: numpy>=1.17.3 in /usr/local/lib/python3.7/dist-packages (from pandas) (1.21.6)\n",
            "Requirement already satisfied: python-dateutil>=2.7.3 in /usr/local/lib/python3.7/dist-packages (from pandas) (2.8.2)\n",
            "Requirement already satisfied: pytz>=2017.3 in /usr/local/lib/python3.7/dist-packages (from pandas) (2022.1)\n",
            "Requirement already satisfied: six>=1.5 in /usr/local/lib/python3.7/dist-packages (from python-dateutil>=2.7.3->pandas) (1.15.0)\n"
          ]
        }
      ],
      "source": [
        "!pip install pandas"
      ],
      "id": "65C5JIeTvKBy"
    },
    {
      "cell_type": "code",
      "execution_count": null,
      "metadata": {
        "colab": {
          "base_uri": "https://localhost:8080/"
        },
        "id": "CpxNmxrvvKBz",
        "outputId": "e749109e-e352-49d7-f229-2f610c20ed9f"
      },
      "outputs": [
        {
          "output_type": "stream",
          "name": "stdout",
          "text": [
            "Requirement already satisfied: matplotlib in /usr/local/lib/python3.7/dist-packages (3.2.2)\n",
            "Requirement already satisfied: pyparsing!=2.0.4,!=2.1.2,!=2.1.6,>=2.0.1 in /usr/local/lib/python3.7/dist-packages (from matplotlib) (3.0.8)\n",
            "Requirement already satisfied: kiwisolver>=1.0.1 in /usr/local/lib/python3.7/dist-packages (from matplotlib) (1.4.2)\n",
            "Requirement already satisfied: cycler>=0.10 in /usr/local/lib/python3.7/dist-packages (from matplotlib) (0.11.0)\n",
            "Requirement already satisfied: numpy>=1.11 in /usr/local/lib/python3.7/dist-packages (from matplotlib) (1.21.6)\n",
            "Requirement already satisfied: python-dateutil>=2.1 in /usr/local/lib/python3.7/dist-packages (from matplotlib) (2.8.2)\n",
            "Requirement already satisfied: typing-extensions in /usr/local/lib/python3.7/dist-packages (from kiwisolver>=1.0.1->matplotlib) (4.2.0)\n",
            "Requirement already satisfied: six>=1.5 in /usr/local/lib/python3.7/dist-packages (from python-dateutil>=2.1->matplotlib) (1.15.0)\n"
          ]
        }
      ],
      "source": [
        "!pip install matplotlib"
      ],
      "id": "CpxNmxrvvKBz"
    },
    {
      "cell_type": "code",
      "execution_count": null,
      "metadata": {
        "colab": {
          "base_uri": "https://localhost:8080/"
        },
        "id": "3F0269BWvKB0",
        "outputId": "099954e7-df8f-4f25-e16a-31df83af2f05"
      },
      "outputs": [
        {
          "output_type": "stream",
          "name": "stdout",
          "text": [
            "Requirement already satisfied: sklearn in /usr/local/lib/python3.7/dist-packages (0.0)\n",
            "Requirement already satisfied: scikit-learn in /usr/local/lib/python3.7/dist-packages (from sklearn) (1.0.2)\n",
            "Requirement already satisfied: joblib>=0.11 in /usr/local/lib/python3.7/dist-packages (from scikit-learn->sklearn) (1.1.0)\n",
            "Requirement already satisfied: scipy>=1.1.0 in /usr/local/lib/python3.7/dist-packages (from scikit-learn->sklearn) (1.4.1)\n",
            "Requirement already satisfied: threadpoolctl>=2.0.0 in /usr/local/lib/python3.7/dist-packages (from scikit-learn->sklearn) (3.1.0)\n",
            "Requirement already satisfied: numpy>=1.14.6 in /usr/local/lib/python3.7/dist-packages (from scikit-learn->sklearn) (1.21.6)\n"
          ]
        }
      ],
      "source": [
        "!pip install sklearn\n"
      ],
      "id": "3F0269BWvKB0"
    },
    {
      "cell_type": "code",
      "execution_count": null,
      "metadata": {
        "colab": {
          "base_uri": "https://localhost:8080/"
        },
        "id": "UGkJnICyvKB1",
        "outputId": "da55346e-a6f7-465c-e492-121d1e61b4ab"
      },
      "outputs": [
        {
          "output_type": "stream",
          "name": "stdout",
          "text": [
            "Requirement already satisfied: opencv-python in /usr/local/lib/python3.7/dist-packages (4.1.2.30)\n",
            "Requirement already satisfied: numpy>=1.14.5 in /usr/local/lib/python3.7/dist-packages (from opencv-python) (1.21.6)\n"
          ]
        }
      ],
      "source": [
        "!pip install opencv-python"
      ],
      "id": "UGkJnICyvKB1"
    },
    {
      "cell_type": "code",
      "execution_count": null,
      "metadata": {
        "colab": {
          "base_uri": "https://localhost:8080/"
        },
        "id": "5_TrZwSsvKB2",
        "outputId": "695a87d1-abee-4767-8459-b3975a24b028"
      },
      "outputs": [
        {
          "output_type": "stream",
          "name": "stdout",
          "text": [
            "Requirement already satisfied: tqdm in /usr/local/lib/python3.7/dist-packages (4.64.0)\n"
          ]
        }
      ],
      "source": [
        "!pip install tqdm"
      ],
      "id": "5_TrZwSsvKB2"
    },
    {
      "cell_type": "code",
      "execution_count": null,
      "metadata": {
        "colab": {
          "base_uri": "https://localhost:8080/"
        },
        "id": "2_mJu8b5vKB3",
        "outputId": "cfd692fc-8402-48f4-a96a-8855e0663226"
      },
      "outputs": [
        {
          "output_type": "stream",
          "name": "stdout",
          "text": [
            "\u001b[?25l\r\u001b[K     |███▊                            | 10 kB 27.7 MB/s eta 0:00:01\r\u001b[K     |███████▍                        | 20 kB 10.7 MB/s eta 0:00:01\r\u001b[K     |███████████                     | 30 kB 8.6 MB/s eta 0:00:01\r\u001b[K     |██████████████▉                 | 40 kB 7.7 MB/s eta 0:00:01\r\u001b[K     |██████████████████▌             | 51 kB 3.6 MB/s eta 0:00:01\r\u001b[K     |██████████████████████▏         | 61 kB 4.3 MB/s eta 0:00:01\r\u001b[K     |██████████████████████████      | 71 kB 4.5 MB/s eta 0:00:01\r\u001b[K     |█████████████████████████████▋  | 81 kB 4.8 MB/s eta 0:00:01\r\u001b[K     |████████████████████████████████| 88 kB 3.3 MB/s \n",
            "\u001b[K     |████████████████████████████████| 58 kB 6.8 MB/s \n",
            "\u001b[K     |████████████████████████████████| 376 kB 24.2 MB/s \n",
            "\u001b[?25h  Building wheel for efficientnet-pytorch (setup.py) ... \u001b[?25l\u001b[?25hdone\n",
            "  Building wheel for pretrainedmodels (setup.py) ... \u001b[?25l\u001b[?25hdone\n"
          ]
        },
        {
          "output_type": "execute_result",
          "data": {
            "text/plain": [
              "device(type='cpu')"
            ]
          },
          "metadata": {},
          "execution_count": 7
        }
      ],
      "source": [
        "import numpy as np\n",
        "import pandas as pd\n",
        "import matplotlib.pyplot as plt\n",
        "\n",
        "from sklearn.model_selection import train_test_split\n",
        "\n",
        "import torch\n",
        "import torch.nn as nn\n",
        "from torch.utils.data import Dataset, DataLoader\n",
        "from torchvision import transforms as T\n",
        "import torchvision\n",
        "import torch.nn.functional as F\n",
        "from torch.autograd import Variable\n",
        "from collections.abc import Mapping\n",
        "from PIL import Image\n",
        "import cv2\n",
        "import albumentations as A\n",
        "import torch\n",
        "from torch.utils.data.dataset import Dataset\n",
        "from torch.utils.data import DataLoader\n",
        "from torchvision import transforms\n",
        "\n",
        "import time\n",
        "import os\n",
        "from tqdm.notebook import tqdm\n",
        "\n",
        "!pip install -q segmentation-models-pytorch\n",
        "!pip install -q torchsummary\n",
        "\n",
        "from torchsummary import summary\n",
        "import segmentation_models_pytorch as smp\n",
        "\n",
        "device = torch.device(\"cuda\" if torch.cuda.is_available() else \"cpu\")\n",
        "device"
      ],
      "id": "2_mJu8b5vKB3"
    },
    {
      "cell_type": "markdown",
      "metadata": {
        "id": "h6GmJiyFvKB4"
      },
      "source": [
        "# DatasetPath Loading"
      ],
      "id": "h6GmJiyFvKB4"
    },
    {
      "cell_type": "code",
      "source": [],
      "metadata": {
        "id": "DMsw21Z2viyQ"
      },
      "id": "DMsw21Z2viyQ",
      "execution_count": null,
      "outputs": []
    },
    {
      "cell_type": "code",
      "source": [
        "from google.colab import drive\n",
        "drive.mount('/content/drive')"
      ],
      "metadata": {
        "colab": {
          "base_uri": "https://localhost:8080/"
        },
        "id": "ld3HE93HvkKa",
        "outputId": "19e27b11-20eb-4c64-aef3-b31e8f7c9972"
      },
      "id": "ld3HE93HvkKa",
      "execution_count": null,
      "outputs": [
        {
          "output_type": "stream",
          "name": "stdout",
          "text": [
            "Mounted at /content/drive\n"
          ]
        }
      ]
    },
    {
      "cell_type": "code",
      "source": [],
      "metadata": {
        "id": "q94d8nGyvioO"
      },
      "id": "q94d8nGyvioO",
      "execution_count": null,
      "outputs": []
    },
    {
      "cell_type": "code",
      "execution_count": null,
      "metadata": {
        "id": "x7bki4U2vKB6"
      },
      "outputs": [],
      "source": [
        "IMAGE_PATH = '/content/drive/MyDrive/kvasir/images/'\n",
        "MASK_PATH = '/content/drive/MyDrive/kvasir/masks/'"
      ],
      "id": "x7bki4U2vKB6"
    },
    {
      "cell_type": "code",
      "execution_count": null,
      "metadata": {
        "colab": {
          "base_uri": "https://localhost:8080/"
        },
        "id": "rCBBnltUvKB7",
        "outputId": "0d8ec416-663c-4908-861f-23df4e6f2c27"
      },
      "outputs": [
        {
          "output_type": "stream",
          "name": "stdout",
          "text": [
            "Total Images:  590\n"
          ]
        }
      ],
      "source": [
        "n_classes = 1\n",
        "\n",
        "def create_df():\n",
        "    name = []\n",
        "    for (dirname, _, filenames) in os.walk(IMAGE_PATH):\n",
        "\n",
        "      for filename in filenames:\n",
        "        name.append(filename.split('.')[0])\n",
        "\n",
        "    return pd.DataFrame({'id': name}, index = np.arange(0, len(name)))\n",
        "\n",
        "df = create_df()\n",
        "print('Total Images: ', len(df))"
      ],
      "id": "rCBBnltUvKB7"
    },
    {
      "cell_type": "code",
      "source": [
        "df"
      ],
      "metadata": {
        "colab": {
          "base_uri": "https://localhost:8080/",
          "height": 423
        },
        "id": "v95dy_SYrwNl",
        "outputId": "ff2cf934-416b-4439-a4f4-293121600071"
      },
      "id": "v95dy_SYrwNl",
      "execution_count": null,
      "outputs": [
        {
          "output_type": "execute_result",
          "data": {
            "text/plain": [
              "                            id\n",
              "0    ckcu8ty6z00003b5yzfaezbs5\n",
              "1    ckcu8v7pr00013b5ymfi2z7uf\n",
              "2    ckcu8w7vy00023b5y3vt2wczx\n",
              "3    ckcu8xad600033b5yc78xfyjx\n",
              "4    ckcu99qx200043b5yd2c5g84t\n",
              "..                         ...\n",
              "585  ckd4kci5x000d3b5y6ywvphuf\n",
              "586  ckd4kcz9m000e3b5y4maj6x0l\n",
              "587  ckd4kdok6000f3b5ydais95lp\n",
              "588  ckd4ke7ol000g3b5yfa5ziymm\n",
              "589  ckd4kgex0000h3b5yhpwjd11l\n",
              "\n",
              "[590 rows x 1 columns]"
            ],
            "text/html": [
              "\n",
              "  <div id=\"df-f9b75da9-322f-444b-b7e5-4b25ce62bd0d\">\n",
              "    <div class=\"colab-df-container\">\n",
              "      <div>\n",
              "<style scoped>\n",
              "    .dataframe tbody tr th:only-of-type {\n",
              "        vertical-align: middle;\n",
              "    }\n",
              "\n",
              "    .dataframe tbody tr th {\n",
              "        vertical-align: top;\n",
              "    }\n",
              "\n",
              "    .dataframe thead th {\n",
              "        text-align: right;\n",
              "    }\n",
              "</style>\n",
              "<table border=\"1\" class=\"dataframe\">\n",
              "  <thead>\n",
              "    <tr style=\"text-align: right;\">\n",
              "      <th></th>\n",
              "      <th>id</th>\n",
              "    </tr>\n",
              "  </thead>\n",
              "  <tbody>\n",
              "    <tr>\n",
              "      <th>0</th>\n",
              "      <td>ckcu8ty6z00003b5yzfaezbs5</td>\n",
              "    </tr>\n",
              "    <tr>\n",
              "      <th>1</th>\n",
              "      <td>ckcu8v7pr00013b5ymfi2z7uf</td>\n",
              "    </tr>\n",
              "    <tr>\n",
              "      <th>2</th>\n",
              "      <td>ckcu8w7vy00023b5y3vt2wczx</td>\n",
              "    </tr>\n",
              "    <tr>\n",
              "      <th>3</th>\n",
              "      <td>ckcu8xad600033b5yc78xfyjx</td>\n",
              "    </tr>\n",
              "    <tr>\n",
              "      <th>4</th>\n",
              "      <td>ckcu99qx200043b5yd2c5g84t</td>\n",
              "    </tr>\n",
              "    <tr>\n",
              "      <th>...</th>\n",
              "      <td>...</td>\n",
              "    </tr>\n",
              "    <tr>\n",
              "      <th>585</th>\n",
              "      <td>ckd4kci5x000d3b5y6ywvphuf</td>\n",
              "    </tr>\n",
              "    <tr>\n",
              "      <th>586</th>\n",
              "      <td>ckd4kcz9m000e3b5y4maj6x0l</td>\n",
              "    </tr>\n",
              "    <tr>\n",
              "      <th>587</th>\n",
              "      <td>ckd4kdok6000f3b5ydais95lp</td>\n",
              "    </tr>\n",
              "    <tr>\n",
              "      <th>588</th>\n",
              "      <td>ckd4ke7ol000g3b5yfa5ziymm</td>\n",
              "    </tr>\n",
              "    <tr>\n",
              "      <th>589</th>\n",
              "      <td>ckd4kgex0000h3b5yhpwjd11l</td>\n",
              "    </tr>\n",
              "  </tbody>\n",
              "</table>\n",
              "<p>590 rows × 1 columns</p>\n",
              "</div>\n",
              "      <button class=\"colab-df-convert\" onclick=\"convertToInteractive('df-f9b75da9-322f-444b-b7e5-4b25ce62bd0d')\"\n",
              "              title=\"Convert this dataframe to an interactive table.\"\n",
              "              style=\"display:none;\">\n",
              "        \n",
              "  <svg xmlns=\"http://www.w3.org/2000/svg\" height=\"24px\"viewBox=\"0 0 24 24\"\n",
              "       width=\"24px\">\n",
              "    <path d=\"M0 0h24v24H0V0z\" fill=\"none\"/>\n",
              "    <path d=\"M18.56 5.44l.94 2.06.94-2.06 2.06-.94-2.06-.94-.94-2.06-.94 2.06-2.06.94zm-11 1L8.5 8.5l.94-2.06 2.06-.94-2.06-.94L8.5 2.5l-.94 2.06-2.06.94zm10 10l.94 2.06.94-2.06 2.06-.94-2.06-.94-.94-2.06-.94 2.06-2.06.94z\"/><path d=\"M17.41 7.96l-1.37-1.37c-.4-.4-.92-.59-1.43-.59-.52 0-1.04.2-1.43.59L10.3 9.45l-7.72 7.72c-.78.78-.78 2.05 0 2.83L4 21.41c.39.39.9.59 1.41.59.51 0 1.02-.2 1.41-.59l7.78-7.78 2.81-2.81c.8-.78.8-2.07 0-2.86zM5.41 20L4 18.59l7.72-7.72 1.47 1.35L5.41 20z\"/>\n",
              "  </svg>\n",
              "      </button>\n",
              "      \n",
              "  <style>\n",
              "    .colab-df-container {\n",
              "      display:flex;\n",
              "      flex-wrap:wrap;\n",
              "      gap: 12px;\n",
              "    }\n",
              "\n",
              "    .colab-df-convert {\n",
              "      background-color: #E8F0FE;\n",
              "      border: none;\n",
              "      border-radius: 50%;\n",
              "      cursor: pointer;\n",
              "      display: none;\n",
              "      fill: #1967D2;\n",
              "      height: 32px;\n",
              "      padding: 0 0 0 0;\n",
              "      width: 32px;\n",
              "    }\n",
              "\n",
              "    .colab-df-convert:hover {\n",
              "      background-color: #E2EBFA;\n",
              "      box-shadow: 0px 1px 2px rgba(60, 64, 67, 0.3), 0px 1px 3px 1px rgba(60, 64, 67, 0.15);\n",
              "      fill: #174EA6;\n",
              "    }\n",
              "\n",
              "    [theme=dark] .colab-df-convert {\n",
              "      background-color: #3B4455;\n",
              "      fill: #D2E3FC;\n",
              "    }\n",
              "\n",
              "    [theme=dark] .colab-df-convert:hover {\n",
              "      background-color: #434B5C;\n",
              "      box-shadow: 0px 1px 3px 1px rgba(0, 0, 0, 0.15);\n",
              "      filter: drop-shadow(0px 1px 2px rgba(0, 0, 0, 0.3));\n",
              "      fill: #FFFFFF;\n",
              "    }\n",
              "  </style>\n",
              "\n",
              "      <script>\n",
              "        const buttonEl =\n",
              "          document.querySelector('#df-f9b75da9-322f-444b-b7e5-4b25ce62bd0d button.colab-df-convert');\n",
              "        buttonEl.style.display =\n",
              "          google.colab.kernel.accessAllowed ? 'block' : 'none';\n",
              "\n",
              "        async function convertToInteractive(key) {\n",
              "          const element = document.querySelector('#df-f9b75da9-322f-444b-b7e5-4b25ce62bd0d');\n",
              "          const dataTable =\n",
              "            await google.colab.kernel.invokeFunction('convertToInteractive',\n",
              "                                                     [key], {});\n",
              "          if (!dataTable) return;\n",
              "\n",
              "          const docLinkHtml = 'Like what you see? Visit the ' +\n",
              "            '<a target=\"_blank\" href=https://colab.research.google.com/notebooks/data_table.ipynb>data table notebook</a>'\n",
              "            + ' to learn more about interactive tables.';\n",
              "          element.innerHTML = '';\n",
              "          dataTable['output_type'] = 'display_data';\n",
              "          await google.colab.output.renderOutput(dataTable, element);\n",
              "          const docLink = document.createElement('div');\n",
              "          docLink.innerHTML = docLinkHtml;\n",
              "          element.appendChild(docLink);\n",
              "        }\n",
              "      </script>\n",
              "    </div>\n",
              "  </div>\n",
              "  "
            ]
          },
          "metadata": {},
          "execution_count": 25
        }
      ]
    },
    {
      "cell_type": "markdown",
      "metadata": {
        "id": "TQ0TFBNqvKB8"
      },
      "source": [
        "# Split"
      ],
      "id": "TQ0TFBNqvKB8"
    },
    {
      "cell_type": "code",
      "execution_count": null,
      "metadata": {
        "colab": {
          "base_uri": "https://localhost:8080/"
        },
        "id": "ADP8JZRXvKB8",
        "outputId": "223843c7-6925-4a80-c69e-ca8eef46b644"
      },
      "outputs": [
        {
          "output_type": "stream",
          "name": "stdout",
          "text": [
            "Train Size   :  451\n",
            "Val Size     :  80\n",
            "Test Size    :  59\n"
          ]
        }
      ],
      "source": [
        "X_trainval, X_test = train_test_split(df['id'].values, test_size=0.1, random_state=19)\n",
        "X_train, X_val = train_test_split(X_trainval, test_size=0.15, random_state=19)\n",
        "\n",
        "print('Train Size   : ', len(X_train))\n",
        "print('Val Size     : ', len(X_val))\n",
        "print('Test Size    : ', len(X_test))"
      ],
      "id": "ADP8JZRXvKB8"
    },
    {
      "cell_type": "code",
      "execution_count": null,
      "metadata": {
        "colab": {
          "base_uri": "https://localhost:8080/",
          "height": 317
        },
        "id": "lB72NWTAvKB9",
        "outputId": "f481c680-2fb5-4739-b504-b8d899a62ba1"
      },
      "outputs": [
        {
          "output_type": "stream",
          "name": "stdout",
          "text": [
            "Image Size (576, 720, 3)\n",
            "Mask Size (576, 720, 3)\n"
          ]
        },
        {
          "output_type": "display_data",
          "data": {
            "text/plain": [
              "<Figure size 432x288 with 1 Axes>"
            ],
            "image/png": "[encoded data removed]"
          },
          "metadata": {
            "needs_background": "light"
          }
        }
      ],
      "source": [
        "img = Image.open(IMAGE_PATH + df['id'][110] + '.jpg')\n",
        "mask = Image.open(MASK_PATH + df['id'][110] + '.png')\n",
        "print('Image Size', np.asarray(img).shape)\n",
        "print('Mask Size', np.asarray(mask).shape)\n",
        "\n",
        "\n",
        "plt.imshow(img)\n",
        "plt.imshow(mask, alpha=0.6)\n",
        "plt.title('Picture with Mask Appplied')\n",
        "plt.show()"
      ],
      "id": "lB72NWTAvKB9"
    },
    {
      "cell_type": "code",
      "execution_count": null,
      "metadata": {
        "id": "5_hwtv27vKB-"
      },
      "outputs": [],
      "source": [
        "class DroneDataset(Dataset):\n",
        "\n",
        "    def __init__(self, img_path, mask_path, X, mean, std, transform=None, patch=False):\n",
        "        self.img_path = img_path\n",
        "        self.mask_path = mask_path\n",
        "        self.X = X\n",
        "        self.transform = transform\n",
        "        self.patches = patch\n",
        "        self.mean = mean\n",
        "        self.std = std\n",
        "\n",
        "    def __len__(self):\n",
        "        return len(self.X)\n",
        "\n",
        "    def __getitem__(self, idx):\n",
        "        img = cv2.imread(self.img_path + self.X[idx] + '.jpg')\n",
        "        img = cv2.cvtColor(img, cv2.COLOR_BGR2RGB)\n",
        "        mask = cv2.imread(self.mask_path + self.X[idx] + '.png', cv2.IMREAD_GRAYSCALE)\n",
        "\n",
        "        if self.transform is not None:\n",
        "            aug = self.transform(image=img, mask=mask)\n",
        "            img = Image.fromarray(aug['image'])\n",
        "            mask = aug['mask']\n",
        "\n",
        "        if self.transform is None:\n",
        "            img = Image.fromarray(img)\n",
        "\n",
        "        t = T.Compose([T.ToTensor(), T.Normalize(self.mean, self.std)])\n",
        "        img = t(img)\n",
        "        mask = torch.from_numpy(mask).long()\n",
        "\n",
        "        if self.patches:\n",
        "            img, mask = self.tiles(img, mask)\n",
        "\n",
        "        return img, mask\n",
        "\n",
        "    def tiles(self, img, mask):\n",
        "\n",
        "        img_patches = img.unfold(1, 512, 512).unfold(2, 768, 768)\n",
        "        img_patches  = img_patches.contiguous().view(3,-1, 512, 768)\n",
        "        img_patches = img_patches.permute(1,0,2,3)\n",
        "\n",
        "        mask_patches = mask.unfold(0, 512, 512).unfold(1, 768, 768)\n",
        "        mask_patches = mask_patches.contiguous().view(-1, 512, 768)\n",
        "\n",
        "        return img_patches, mask_patches"
      ],
      "id": "5_hwtv27vKB-"
    },
    {
      "cell_type": "markdown",
      "metadata": {
        "id": "Hv4kDI56vKB_"
      },
      "source": [
        "# PreProcessing"
      ],
      "id": "Hv4kDI56vKB_"
    },
    {
      "cell_type": "code",
      "execution_count": null,
      "metadata": {
        "id": "zZB2213jvKCA"
      },
      "outputs": [],
      "source": [
        "mean=[0.485, 0.456, 0.406]\n",
        "std=[0.229, 0.224, 0.225]\n",
        "\n",
        "t_train = A.Compose([A.Resize(256, 256, interpolation=cv2.INTER_NEAREST), A.HorizontalFlip(), A.VerticalFlip(),\n",
        "                     A.GridDistortion(p=0.2), A.RandomBrightnessContrast((0,0.5),(0,0.5)),\n",
        "                     A.GaussNoise()])\n",
        "\n",
        "t_val = A.Compose([A.Resize(256, 256, interpolation=cv2.INTER_NEAREST), A.HorizontalFlip(),\n",
        "                   A.GridDistortion(p=0.2)])\n",
        "\n",
        "#datasets\n",
        "train_set = DroneDataset(IMAGE_PATH, MASK_PATH, X_train, mean, std, t_train, patch=False)\n",
        "val_set = DroneDataset(IMAGE_PATH, MASK_PATH, X_val, mean, std, t_val, patch=False)\n",
        "\n",
        "#dataloader\n",
        "batch_size=1\n",
        "\n",
        "train_loader = DataLoader(train_set, batch_size=batch_size, shuffle=True)\n",
        "val_loader = DataLoader(val_set, batch_size=batch_size, shuffle=True)"
      ],
      "id": "zZB2213jvKCA"
    },
    {
      "cell_type": "markdown",
      "metadata": {
        "id": "uvkpHpz8vKCB"
      },
      "source": [
        "# Metric Functions"
      ],
      "id": "uvkpHpz8vKCB"
    },
    {
      "cell_type": "code",
      "execution_count": null,
      "metadata": {
        "id": "Gos1twgHvKCB"
      },
      "outputs": [],
      "source": [
        "def pixel_accuracy(output, mask):\n",
        "    with torch.no_grad():\n",
        "        output = torch.argmax(F.softmax(output, dim=1), dim=1)\n",
        "        correct = torch.eq(output, mask).int()\n",
        "        accuracy = float(correct.sum()) / float(correct.numel())\n",
        "    return accuracy"
      ],
      "id": "Gos1twgHvKCB"
    },
    {
      "cell_type": "code",
      "execution_count": null,
      "metadata": {
        "id": "oymhLqNmvKCC"
      },
      "outputs": [],
      "source": [
        "def mIoU(pred_mask, mask, smooth=1e-10, n_classes=23):\n",
        "    with torch.no_grad():\n",
        "        pred_mask = F.softmax(pred_mask, dim=1)\n",
        "        pred_mask = torch.argmax(pred_mask, dim=1)\n",
        "        pred_mask = pred_mask.contiguous().view(-1)\n",
        "        mask = mask.contiguous().view(-1)\n",
        "\n",
        "        iou_per_class = []\n",
        "        for clas in range(0, n_classes): #loop per pixel class\n",
        "            true_class = pred_mask == clas\n",
        "            true_label = mask == clas\n",
        "\n",
        "            if true_label.long().sum().item() == 0: #no exist label in this loop\n",
        "                iou_per_class.append(np.nan)\n",
        "            else:\n",
        "                intersect = torch.logical_and(true_class, true_label).sum().float().item()\n",
        "                union = torch.logical_or(true_class, true_label).sum().float().item()\n",
        "\n",
        "                iou = (intersect + smooth) / (union +smooth)\n",
        "                iou_per_class.append(iou)\n",
        "        return np.nanmean(iou_per_class)"
      ],
      "id": "oymhLqNmvKCC"
    },
    {
      "cell_type": "code",
      "execution_count": null,
      "metadata": {
        "id": "Vmb9BL_mvKCC"
      },
      "outputs": [],
      "source": [
        "#Kaggle Code\n",
        "def get_lr(optimizer):\n",
        "    for param_group in optimizer.param_groups:\n",
        "        return param_group['lr']\n",
        "\n",
        "def fit(epochs, model, train_loader, val_loader, criterion, optimizer, scheduler, patch=False):\n",
        "    torch.cuda.empty_cache()\n",
        "    train_losses = []\n",
        "    test_losses = []\n",
        "    val_iou = []; val_acc = []\n",
        "    train_iou = []; train_acc = []\n",
        "    lrs = []\n",
        "    min_loss = np.inf\n",
        "    decrease = 1 ; not_improve=0\n",
        "\n",
        "    model.to(device)\n",
        "    fit_time = time.time()\n",
        "    for e in range(epochs):\n",
        "        since = time.time()\n",
        "        running_loss = 0\n",
        "        iou_score = 0\n",
        "        accuracy = 0\n",
        "        #training loop\n",
        "        model.train()\n",
        "        for i, data in enumerate(tqdm(train_loader)):\n",
        "            #training phase\n",
        "            image_tiles, mask_tiles = data\n",
        "            if patch:\n",
        "                bs, n_tiles, c, h, w = image_tiles.size()\n",
        "\n",
        "                image_tiles = image_tiles.view(-1,c, h, w)\n",
        "                mask_tiles = mask_tiles.view(-1, h, w)\n",
        "\n",
        "            image = image_tiles.to(device); mask = mask_tiles.to(device);\n",
        "            #forward\n",
        "            output = model(image)\n",
        "            loss = criterion(output, mask)\n",
        "            #evaluation metrics\n",
        "            iou_score += mIoU(output, mask)\n",
        "            accuracy += pixel_accuracy(output, mask)\n",
        "            #backward\n",
        "            loss.backward()\n",
        "            optimizer.step() #update weight\n",
        "            optimizer.zero_grad() #reset gradient\n",
        "\n",
        "            #step the learning rate\n",
        "            lrs.append(get_lr(optimizer))\n",
        "            scheduler.step()\n",
        "\n",
        "            running_loss += loss.item()\n",
        "\n",
        "        else:\n",
        "            model.eval()\n",
        "            test_loss = 0\n",
        "            test_accuracy = 0\n",
        "            val_iou_score = 0\n",
        "            #validation loop\n",
        "            with torch.no_grad():\n",
        "                for i, data in enumerate(tqdm(val_loader)):\n",
        "                    #reshape to 9 patches from single image, delete batch size\n",
        "                    image_tiles, mask_tiles = data\n",
        "\n",
        "                    if patch:\n",
        "                        bs, n_tiles, c, h, w = image_tiles.size()\n",
        "\n",
        "                        image_tiles = image_tiles.view(-1,c, h, w)\n",
        "                        mask_tiles = mask_tiles.view(-1, h, w)\n",
        "\n",
        "                    image = image_tiles.to(device); mask = mask_tiles.to(device);\n",
        "                    output = model(image)\n",
        "                    #evaluation metrics\n",
        "                    val_iou_score +=  mIoU(output, mask)\n",
        "                    test_accuracy += pixel_accuracy(output, mask)\n",
        "                    #loss\n",
        "                    loss = criterion(output, mask)\n",
        "                    test_loss += loss.item()\n",
        "\n",
        "            #calculatio mean for each batch\n",
        "            train_losses.append(running_loss/len(train_loader))\n",
        "            test_losses.append(test_loss/len(val_loader))\n",
        "\n",
        "\n",
        "            if min_loss > (test_loss/len(val_loader)):\n",
        "                print('Loss Decreasing.. {:.5f} >> {:.5f} '.format(min_loss, (test_loss/len(val_loader))))\n",
        "                min_loss = (test_loss/len(val_loader))\n",
        "                decrease += 1\n",
        "                if decrease % 5 == 0:\n",
        "                    print('saving model...')\n",
        "                    torch.save(model, 'Unet-Mobilenet_v2_mIoU-{:.5f}.pt'.format(val_iou_score/len(val_loader)))\n",
        "\n",
        "\n",
        "            if (test_loss/len(val_loader)) > min_loss:\n",
        "                not_improve += 1\n",
        "                min_loss = (test_loss/len(val_loader))\n",
        "                print(f'Loss Not Decrease for {not_improve} time')\n",
        "                if not_improve == 10:\n",
        "                    print('Loss not decrease for 10 times, Stop Training')\n",
        "                    break\n",
        "\n",
        "            #iou\n",
        "            val_iou.append(val_iou_score/len(val_loader))\n",
        "            train_iou.append(iou_score/len(train_loader))\n",
        "            train_acc.append(accuracy/len(train_loader))\n",
        "            val_acc.append(test_accuracy/ len(val_loader))\n",
        "            print(\"Epoch:{}/{}..\".format(e+1, epochs),\n",
        "                  \"Train Loss: {:.5f}..\".format(running_loss/len(train_loader)),\n",
        "                  \"Val Loss: {:.5f}..\".format(test_loss/len(val_loader)),\n",
        "                  \"Train mIoU:{:.5f}..\".format(iou_score/len(train_loader)),\n",
        "                  \"Val mIoU: {:.5f}..\".format(val_iou_score/len(val_loader)),\n",
        "                  \"Train Acc:{:.5f}..\".format(accuracy/len(train_loader)),\n",
        "                  \"Val Acc:{:.5f}..\".format(test_accuracy/len(val_loader)),\n",
        "                  \"Time: {:.3f}m\".format((time.time()-since)/60))\n",
        "\n",
        "    history = {'train_loss' : train_losses, 'val_loss': test_losses,\n",
        "               'train_miou' :train_iou, 'val_miou':val_iou,\n",
        "               'train_acc' :train_acc, 'val_acc':val_acc,\n",
        "               'lrs': lrs}\n",
        "    print('Total time: {:.3f} m' .format((time.time()- fit_time)/60))\n",
        "    return history"
      ],
      "id": "Vmb9BL_mvKCC"
    },
    {
      "cell_type": "code",
      "source": [
        "train_loader"
      ],
      "metadata": {
        "colab": {
          "base_uri": "https://localhost:8080/"
        },
        "id": "uPfeTOeY0u1g",
        "outputId": "81317270-d062-40a2-bc2a-9ec6985b8664"
      },
      "id": "uPfeTOeY0u1g",
      "execution_count": null,
      "outputs": [
        {
          "output_type": "execute_result",
          "data": {
            "text/plain": [
              "<torch.utils.data.dataloader.DataLoader at 0x7f92d7c6b490>"
            ]
          },
          "metadata": {},
          "execution_count": 33
        }
      ]
    },
    {
      "cell_type": "markdown",
      "metadata": {
        "id": "cOLOJi0vvKCD"
      },
      "source": [
        "# Mobilenetv2"
      ],
      "id": "cOLOJi0vvKCD"
    },
    {
      "cell_type": "code",
      "execution_count": null,
      "metadata": {
        "id": "h1XEuhBcvKCD"
      },
      "outputs": [],
      "source": [
        "model = smp.Unet('mobilenet_v2', encoder_weights='imagenet', classes=2, activation='sigmoid', encoder_depth=5, decoder_channels=[256, 128, 64, 32, 16])"
      ],
      "id": "h1XEuhBcvKCD"
    },
    {
      "cell_type": "code",
      "execution_count": null,
      "metadata": {
        "colab": {
          "base_uri": "https://localhost:8080/"
        },
        "id": "QU1HoAdDvKCE",
        "outputId": "6eaa99c1-0ea5-4364-ebc1-2186d1db00ed"
      },
      "outputs": [
        {
          "output_type": "execute_result",
          "data": {
            "text/plain": [
              "Unet(\n",
              "  (encoder): MobileNetV2Encoder(\n",
              "    (features): Sequential(\n",
              "      (0): ConvNormActivation(\n",
              "        (0): Conv2d(3, 32, kernel_size=(3, 3), stride=(2, 2), padding=(1, 1), bias=False)\n",
              "        (1): BatchNorm2d(32, eps=1e-05, momentum=0.1, affine=True, track_running_stats=True)\n",
              "        (2): ReLU6(inplace=True)\n",
              "      )\n",
              "      (1): InvertedResidual(\n",
              "        (conv): Sequential(\n",
              "          (0): ConvNormActivation(\n",
              "            (0): Conv2d(32, 32, kernel_size=(3, 3), stride=(1, 1), padding=(1, 1), groups=32, bias=False)\n",
              "            (1): BatchNorm2d(32, eps=1e-05, momentum=0.1, affine=True, track_running_stats=True)\n",
              "            (2): ReLU6(inplace=True)\n",
              "          )\n",
              "          (1): Conv2d(32, 16, kernel_size=(1, 1), stride=(1, 1), bias=False)\n",
              "          (2): BatchNorm2d(16, eps=1e-05, momentum=0.1, affine=True, track_running_stats=True)\n",
              "        )\n",
              "      )\n",
              "      (2): InvertedResidual(\n",
              "        (conv): Sequential(\n",
              "          (0): ConvNormActivation(\n",
              "            (0): Conv2d(16, 96, kernel_size=(1, 1), stride=(1, 1), bias=False)\n",
              "            (1): BatchNorm2d(96, eps=1e-05, momentum=0.1, affine=True, track_running_stats=True)\n",
              "            (2): ReLU6(inplace=True)\n",
              "          )\n",
              "          (1): ConvNormActivation(\n",
              "            (0): Conv2d(96, 96, kernel_size=(3, 3), stride=(2, 2), padding=(1, 1), groups=96, bias=False)\n",
              "            (1): BatchNorm2d(96, eps=1e-05, momentum=0.1, affine=True, track_running_stats=True)\n",
              "            (2): ReLU6(inplace=True)\n",
              "          )\n",
              "          (2): Conv2d(96, 24, kernel_size=(1, 1), stride=(1, 1), bias=False)\n",
              "          (3): BatchNorm2d(24, eps=1e-05, momentum=0.1, affine=True, track_running_stats=True)\n",
              "        )\n",
              "      )\n",
              "      (3): InvertedResidual(\n",
              "        (conv): Sequential(\n",
              "          (0): ConvNormActivation(\n",
              "            (0): Conv2d(24, 144, kernel_size=(1, 1), stride=(1, 1), bias=False)\n",
              "            (1): BatchNorm2d(144, eps=1e-05, momentum=0.1, affine=True, track_running_stats=True)\n",
              "            (2): ReLU6(inplace=True)\n",
              "          )\n",
              "          (1): ConvNormActivation(\n",
              "            (0): Conv2d(144, 144, kernel_size=(3, 3), stride=(1, 1), padding=(1, 1), groups=144, bias=False)\n",
              "            (1): BatchNorm2d(144, eps=1e-05, momentum=0.1, affine=True, track_running_stats=True)\n",
              "            (2): ReLU6(inplace=True)\n",
              "          )\n",
              "          (2): Conv2d(144, 24, kernel_size=(1, 1), stride=(1, 1), bias=False)\n",
              "          (3): BatchNorm2d(24, eps=1e-05, momentum=0.1, affine=True, track_running_stats=True)\n",
              "        )\n",
              "      )\n",
              "      (4): InvertedResidual(\n",
              "        (conv): Sequential(\n",
              "          (0): ConvNormActivation(\n",
              "            (0): Conv2d(24, 144, kernel_size=(1, 1), stride=(1, 1), bias=False)\n",
              "            (1): BatchNorm2d(144, eps=1e-05, momentum=0.1, affine=True, track_running_stats=True)\n",
              "            (2): ReLU6(inplace=True)\n",
              "          )\n",
              "          (1): ConvNormActivation(\n",
              "            (0): Conv2d(144, 144, kernel_size=(3, 3), stride=(2, 2), padding=(1, 1), groups=144, bias=False)\n",
              "            (1): BatchNorm2d(144, eps=1e-05, momentum=0.1, affine=True, track_running_stats=True)\n",
              "            (2): ReLU6(inplace=True)\n",
              "          )\n",
              "          (2): Conv2d(144, 32, kernel_size=(1, 1), stride=(1, 1), bias=False)\n",
              "          (3): BatchNorm2d(32, eps=1e-05, momentum=0.1, affine=True, track_running_stats=True)\n",
              "        )\n",
              "      )\n",
              "      (5): InvertedResidual(\n",
              "        (conv): Sequential(\n",
              "          (0): ConvNormActivation(\n",
              "            (0): Conv2d(32, 192, kernel_size=(1, 1), stride=(1, 1), bias=False)\n",
              "            (1): BatchNorm2d(192, eps=1e-05, momentum=0.1, affine=True, track_running_stats=True)\n",
              "            (2): ReLU6(inplace=True)\n",
              "          )\n",
              "          (1): ConvNormActivation(\n",
              "            (0): Conv2d(192, 192, kernel_size=(3, 3), stride=(1, 1), padding=(1, 1), groups=192, bias=False)\n",
              "            (1): BatchNorm2d(192, eps=1e-05, momentum=0.1, affine=True, track_running_stats=True)\n",
              "            (2): ReLU6(inplace=True)\n",
              "          )\n",
              "          (2): Conv2d(192, 32, kernel_size=(1, 1), stride=(1, 1), bias=False)\n",
              "          (3): BatchNorm2d(32, eps=1e-05, momentum=0.1, affine=True, track_running_stats=True)\n",
              "        )\n",
              "      )\n",
              "      (6): InvertedResidual(\n",
              "        (conv): Sequential(\n",
              "          (0): ConvNormActivation(\n",
              "            (0): Conv2d(32, 192, kernel_size=(1, 1), stride=(1, 1), bias=False)\n",
              "            (1): BatchNorm2d(192, eps=1e-05, momentum=0.1, affine=True, track_running_stats=True)\n",
              "            (2): ReLU6(inplace=True)\n",
              "          )\n",
              "          (1): ConvNormActivation(\n",
              "            (0): Conv2d(192, 192, kernel_size=(3, 3), stride=(1, 1), padding=(1, 1), groups=192, bias=False)\n",
              "            (1): BatchNorm2d(192, eps=1e-05, momentum=0.1, affine=True, track_running_stats=True)\n",
              "            (2): ReLU6(inplace=True)\n",
              "          )\n",
              "          (2): Conv2d(192, 32, kernel_size=(1, 1), stride=(1, 1), bias=False)\n",
              "          (3): BatchNorm2d(32, eps=1e-05, momentum=0.1, affine=True, track_running_stats=True)\n",
              "        )\n",
              "      )\n",
              "      (7): InvertedResidual(\n",
              "        (conv): Sequential(\n",
              "          (0): ConvNormActivation(\n",
              "            (0): Conv2d(32, 192, kernel_size=(1, 1), stride=(1, 1), bias=False)\n",
              "            (1): BatchNorm2d(192, eps=1e-05, momentum=0.1, affine=True, track_running_stats=True)\n",
              "            (2): ReLU6(inplace=True)\n",
              "          )\n",
              "          (1): ConvNormActivation(\n",
              "            (0): Conv2d(192, 192, kernel_size=(3, 3), stride=(2, 2), padding=(1, 1), groups=192, bias=False)\n",
              "            (1): BatchNorm2d(192, eps=1e-05, momentum=0.1, affine=True, track_running_stats=True)\n",
              "            (2): ReLU6(inplace=True)\n",
              "          )\n",
              "          (2): Conv2d(192, 64, kernel_size=(1, 1), stride=(1, 1), bias=False)\n",
              "          (3): BatchNorm2d(64, eps=1e-05, momentum=0.1, affine=True, track_running_stats=True)\n",
              "        )\n",
              "      )\n",
              "      (8): InvertedResidual(\n",
              "        (conv): Sequential(\n",
              "          (0): ConvNormActivation(\n",
              "            (0): Conv2d(64, 384, kernel_size=(1, 1), stride=(1, 1), bias=False)\n",
              "            (1): BatchNorm2d(384, eps=1e-05, momentum=0.1, affine=True, track_running_stats=True)\n",
              "            (2): ReLU6(inplace=True)\n",
              "          )\n",
              "          (1): ConvNormActivation(\n",
              "            (0): Conv2d(384, 384, kernel_size=(3, 3), stride=(1, 1), padding=(1, 1), groups=384, bias=False)\n",
              "            (1): BatchNorm2d(384, eps=1e-05, momentum=0.1, affine=True, track_running_stats=True)\n",
              "            (2): ReLU6(inplace=True)\n",
              "          )\n",
              "          (2): Conv2d(384, 64, kernel_size=(1, 1), stride=(1, 1), bias=False)\n",
              "          (3): BatchNorm2d(64, eps=1e-05, momentum=0.1, affine=True, track_running_stats=True)\n",
              "        )\n",
              "      )\n",
              "      (9): InvertedResidual(\n",
              "        (conv): Sequential(\n",
              "          (0): ConvNormActivation(\n",
              "            (0): Conv2d(64, 384, kernel_size=(1, 1), stride=(1, 1), bias=False)\n",
              "            (1): BatchNorm2d(384, eps=1e-05, momentum=0.1, affine=True, track_running_stats=True)\n",
              "            (2): ReLU6(inplace=True)\n",
              "          )\n",
              "          (1): ConvNormActivation(\n",
              "            (0): Conv2d(384, 384, kernel_size=(3, 3), stride=(1, 1), padding=(1, 1), groups=384, bias=False)\n",
              "            (1): BatchNorm2d(384, eps=1e-05, momentum=0.1, affine=True, track_running_stats=True)\n",
              "            (2): ReLU6(inplace=True)\n",
              "          )\n",
              "          (2): Conv2d(384, 64, kernel_size=(1, 1), stride=(1, 1), bias=False)\n",
              "          (3): BatchNorm2d(64, eps=1e-05, momentum=0.1, affine=True, track_running_stats=True)\n",
              "        )\n",
              "      )\n",
              "      (10): InvertedResidual(\n",
              "        (conv): Sequential(\n",
              "          (0): ConvNormActivation(\n",
              "            (0): Conv2d(64, 384, kernel_size=(1, 1), stride=(1, 1), bias=False)\n",
              "            (1): BatchNorm2d(384, eps=1e-05, momentum=0.1, affine=True, track_running_stats=True)\n",
              "            (2): ReLU6(inplace=True)\n",
              "          )\n",
              "          (1): ConvNormActivation(\n",
              "            (0): Conv2d(384, 384, kernel_size=(3, 3), stride=(1, 1), padding=(1, 1), groups=384, bias=False)\n",
              "            (1): BatchNorm2d(384, eps=1e-05, momentum=0.1, affine=True, track_running_stats=True)\n",
              "            (2): ReLU6(inplace=True)\n",
              "          )\n",
              "          (2): Conv2d(384, 64, kernel_size=(1, 1), stride=(1, 1), bias=False)\n",
              "          (3): BatchNorm2d(64, eps=1e-05, momentum=0.1, affine=True, track_running_stats=True)\n",
              "        )\n",
              "      )\n",
              "      (11): InvertedResidual(\n",
              "        (conv): Sequential(\n",
              "          (0): ConvNormActivation(\n",
              "            (0): Conv2d(64, 384, kernel_size=(1, 1), stride=(1, 1), bias=False)\n",
              "            (1): BatchNorm2d(384, eps=1e-05, momentum=0.1, affine=True, track_running_stats=True)\n",
              "            (2): ReLU6(inplace=True)\n",
              "          )\n",
              "          (1): ConvNormActivation(\n",
              "            (0): Conv2d(384, 384, kernel_size=(3, 3), stride=(1, 1), padding=(1, 1), groups=384, bias=False)\n",
              "            (1): BatchNorm2d(384, eps=1e-05, momentum=0.1, affine=True, track_running_stats=True)\n",
              "            (2): ReLU6(inplace=True)\n",
              "          )\n",
              "          (2): Conv2d(384, 96, kernel_size=(1, 1), stride=(1, 1), bias=False)\n",
              "          (3): BatchNorm2d(96, eps=1e-05, momentum=0.1, affine=True, track_running_stats=True)\n",
              "        )\n",
              "      )\n",
              "      (12): InvertedResidual(\n",
              "        (conv): Sequential(\n",
              "          (0): ConvNormActivation(\n",
              "            (0): Conv2d(96, 576, kernel_size=(1, 1), stride=(1, 1), bias=False)\n",
              "            (1): BatchNorm2d(576, eps=1e-05, momentum=0.1, affine=True, track_running_stats=True)\n",
              "            (2): ReLU6(inplace=True)\n",
              "          )\n",
              "          (1): ConvNormActivation(\n",
              "            (0): Conv2d(576, 576, kernel_size=(3, 3), stride=(1, 1), padding=(1, 1), groups=576, bias=False)\n",
              "            (1): BatchNorm2d(576, eps=1e-05, momentum=0.1, affine=True, track_running_stats=True)\n",
              "            (2): ReLU6(inplace=True)\n",
              "          )\n",
              "          (2): Conv2d(576, 96, kernel_size=(1, 1), stride=(1, 1), bias=False)\n",
              "          (3): BatchNorm2d(96, eps=1e-05, momentum=0.1, affine=True, track_running_stats=True)\n",
              "        )\n",
              "      )\n",
              "      (13): InvertedResidual(\n",
              "        (conv): Sequential(\n",
              "          (0): ConvNormActivation(\n",
              "            (0): Conv2d(96, 576, kernel_size=(1, 1), stride=(1, 1), bias=False)\n",
              "            (1): BatchNorm2d(576, eps=1e-05, momentum=0.1, affine=True, track_running_stats=True)\n",
              "            (2): ReLU6(inplace=True)\n",
              "          )\n",
              "          (1): ConvNormActivation(\n",
              "            (0): Conv2d(576, 576, kernel_size=(3, 3), stride=(1, 1), padding=(1, 1), groups=576, bias=False)\n",
              "            (1): BatchNorm2d(576, eps=1e-05, momentum=0.1, affine=True, track_running_stats=True)\n",
              "            (2): ReLU6(inplace=True)\n",
              "          )\n",
              "          (2): Conv2d(576, 96, kernel_size=(1, 1), stride=(1, 1), bias=False)\n",
              "          (3): BatchNorm2d(96, eps=1e-05, momentum=0.1, affine=True, track_running_stats=True)\n",
              "        )\n",
              "      )\n",
              "      (14): InvertedResidual(\n",
              "        (conv): Sequential(\n",
              "          (0): ConvNormActivation(\n",
              "            (0): Conv2d(96, 576, kernel_size=(1, 1), stride=(1, 1), bias=False)\n",
              "            (1): BatchNorm2d(576, eps=1e-05, momentum=0.1, affine=True, track_running_stats=True)\n",
              "            (2): ReLU6(inplace=True)\n",
              "          )\n",
              "          (1): ConvNormActivation(\n",
              "            (0): Conv2d(576, 576, kernel_size=(3, 3), stride=(2, 2), padding=(1, 1), groups=576, bias=False)\n",
              "            (1): BatchNorm2d(576, eps=1e-05, momentum=0.1, affine=True, track_running_stats=True)\n",
              "            (2): ReLU6(inplace=True)\n",
              "          )\n",
              "          (2): Conv2d(576, 160, kernel_size=(1, 1), stride=(1, 1), bias=False)\n",
              "          (3): BatchNorm2d(160, eps=1e-05, momentum=0.1, affine=True, track_running_stats=True)\n",
              "        )\n",
              "      )\n",
              "      (15): InvertedResidual(\n",
              "        (conv): Sequential(\n",
              "          (0): ConvNormActivation(\n",
              "            (0): Conv2d(160, 960, kernel_size=(1, 1), stride=(1, 1), bias=False)\n",
              "            (1): BatchNorm2d(960, eps=1e-05, momentum=0.1, affine=True, track_running_stats=True)\n",
              "            (2): ReLU6(inplace=True)\n",
              "          )\n",
              "          (1): ConvNormActivation(\n",
              "            (0): Conv2d(960, 960, kernel_size=(3, 3), stride=(1, 1), padding=(1, 1), groups=960, bias=False)\n",
              "            (1): BatchNorm2d(960, eps=1e-05, momentum=0.1, affine=True, track_running_stats=True)\n",
              "            (2): ReLU6(inplace=True)\n",
              "          )\n",
              "          (2): Conv2d(960, 160, kernel_size=(1, 1), stride=(1, 1), bias=False)\n",
              "          (3): BatchNorm2d(160, eps=1e-05, momentum=0.1, affine=True, track_running_stats=True)\n",
              "        )\n",
              "      )\n",
              "      (16): InvertedResidual(\n",
              "        (conv): Sequential(\n",
              "          (0): ConvNormActivation(\n",
              "            (0): Conv2d(160, 960, kernel_size=(1, 1), stride=(1, 1), bias=False)\n",
              "            (1): BatchNorm2d(960, eps=1e-05, momentum=0.1, affine=True, track_running_stats=True)\n",
              "            (2): ReLU6(inplace=True)\n",
              "          )\n",
              "          (1): ConvNormActivation(\n",
              "            (0): Conv2d(960, 960, kernel_size=(3, 3), stride=(1, 1), padding=(1, 1), groups=960, bias=False)\n",
              "            (1): BatchNorm2d(960, eps=1e-05, momentum=0.1, affine=True, track_running_stats=True)\n",
              "            (2): ReLU6(inplace=True)\n",
              "          )\n",
              "          (2): Conv2d(960, 160, kernel_size=(1, 1), stride=(1, 1), bias=False)\n",
              "          (3): BatchNorm2d(160, eps=1e-05, momentum=0.1, affine=True, track_running_stats=True)\n",
              "        )\n",
              "      )\n",
              "      (17): InvertedResidual(\n",
              "        (conv): Sequential(\n",
              "          (0): ConvNormActivation(\n",
              "            (0): Conv2d(160, 960, kernel_size=(1, 1), stride=(1, 1), bias=False)\n",
              "            (1): BatchNorm2d(960, eps=1e-05, momentum=0.1, affine=True, track_running_stats=True)\n",
              "            (2): ReLU6(inplace=True)\n",
              "          )\n",
              "          (1): ConvNormActivation(\n",
              "            (0): Conv2d(960, 960, kernel_size=(3, 3), stride=(1, 1), padding=(1, 1), groups=960, bias=False)\n",
              "            (1): BatchNorm2d(960, eps=1e-05, momentum=0.1, affine=True, track_running_stats=True)\n",
              "            (2): ReLU6(inplace=True)\n",
              "          )\n",
              "          (2): Conv2d(960, 320, kernel_size=(1, 1), stride=(1, 1), bias=False)\n",
              "          (3): BatchNorm2d(320, eps=1e-05, momentum=0.1, affine=True, track_running_stats=True)\n",
              "        )\n",
              "      )\n",
              "      (18): ConvNormActivation(\n",
              "        (0): Conv2d(320, 1280, kernel_size=(1, 1), stride=(1, 1), bias=False)\n",
              "        (1): BatchNorm2d(1280, eps=1e-05, momentum=0.1, affine=True, track_running_stats=True)\n",
              "        (2): ReLU6(inplace=True)\n",
              "      )\n",
              "    )\n",
              "  )\n",
              "  (decoder): UnetDecoder(\n",
              "    (center): Identity()\n",
              "    (blocks): ModuleList(\n",
              "      (0): DecoderBlock(\n",
              "        (conv1): Conv2dReLU(\n",
              "          (0): Conv2d(1376, 256, kernel_size=(3, 3), stride=(1, 1), padding=(1, 1), bias=False)\n",
              "          (1): BatchNorm2d(256, eps=1e-05, momentum=0.1, affine=True, track_running_stats=True)\n",
              "          (2): ReLU(inplace=True)\n",
              "        )\n",
              "        (attention1): Attention(\n",
              "          (attention): Identity()\n",
              "        )\n",
              "        (conv2): Conv2dReLU(\n",
              "          (0): Conv2d(256, 256, kernel_size=(3, 3), stride=(1, 1), padding=(1, 1), bias=False)\n",
              "          (1): BatchNorm2d(256, eps=1e-05, momentum=0.1, affine=True, track_running_stats=True)\n",
              "          (2): ReLU(inplace=True)\n",
              "        )\n",
              "        (attention2): Attention(\n",
              "          (attention): Identity()\n",
              "        )\n",
              "      )\n",
              "      (1): DecoderBlock(\n",
              "        (conv1): Conv2dReLU(\n",
              "          (0): Conv2d(288, 128, kernel_size=(3, 3), stride=(1, 1), padding=(1, 1), bias=False)\n",
              "          (1): BatchNorm2d(128, eps=1e-05, momentum=0.1, affine=True, track_running_stats=True)\n",
              "          (2): ReLU(inplace=True)\n",
              "        )\n",
              "        (attention1): Attention(\n",
              "          (attention): Identity()\n",
              "        )\n",
              "        (conv2): Conv2dReLU(\n",
              "          (0): Conv2d(128, 128, kernel_size=(3, 3), stride=(1, 1), padding=(1, 1), bias=False)\n",
              "          (1): BatchNorm2d(128, eps=1e-05, momentum=0.1, affine=True, track_running_stats=True)\n",
              "          (2): ReLU(inplace=True)\n",
              "        )\n",
              "        (attention2): Attention(\n",
              "          (attention): Identity()\n",
              "        )\n",
              "      )\n",
              "      (2): DecoderBlock(\n",
              "        (conv1): Conv2dReLU(\n",
              "          (0): Conv2d(152, 64, kernel_size=(3, 3), stride=(1, 1), padding=(1, 1), bias=False)\n",
              "          (1): BatchNorm2d(64, eps=1e-05, momentum=0.1, affine=True, track_running_stats=True)\n",
              "          (2): ReLU(inplace=True)\n",
              "        )\n",
              "        (attention1): Attention(\n",
              "          (attention): Identity()\n",
              "        )\n",
              "        (conv2): Conv2dReLU(\n",
              "          (0): Conv2d(64, 64, kernel_size=(3, 3), stride=(1, 1), padding=(1, 1), bias=False)\n",
              "          (1): BatchNorm2d(64, eps=1e-05, momentum=0.1, affine=True, track_running_stats=True)\n",
              "          (2): ReLU(inplace=True)\n",
              "        )\n",
              "        (attention2): Attention(\n",
              "          (attention): Identity()\n",
              "        )\n",
              "      )\n",
              "      (3): DecoderBlock(\n",
              "        (conv1): Conv2dReLU(\n",
              "          (0): Conv2d(80, 32, kernel_size=(3, 3), stride=(1, 1), padding=(1, 1), bias=False)\n",
              "          (1): BatchNorm2d(32, eps=1e-05, momentum=0.1, affine=True, track_running_stats=True)\n",
              "          (2): ReLU(inplace=True)\n",
              "        )\n",
              "        (attention1): Attention(\n",
              "          (attention): Identity()\n",
              "        )\n",
              "        (conv2): Conv2dReLU(\n",
              "          (0): Conv2d(32, 32, kernel_size=(3, 3), stride=(1, 1), padding=(1, 1), bias=False)\n",
              "          (1): BatchNorm2d(32, eps=1e-05, momentum=0.1, affine=True, track_running_stats=True)\n",
              "          (2): ReLU(inplace=True)\n",
              "        )\n",
              "        (attention2): Attention(\n",
              "          (attention): Identity()\n",
              "        )\n",
              "      )\n",
              "      (4): DecoderBlock(\n",
              "        (conv1): Conv2dReLU(\n",
              "          (0): Conv2d(32, 16, kernel_size=(3, 3), stride=(1, 1), padding=(1, 1), bias=False)\n",
              "          (1): BatchNorm2d(16, eps=1e-05, momentum=0.1, affine=True, track_running_stats=True)\n",
              "          (2): ReLU(inplace=True)\n",
              "        )\n",
              "        (attention1): Attention(\n",
              "          (attention): Identity()\n",
              "        )\n",
              "        (conv2): Conv2dReLU(\n",
              "          (0): Conv2d(16, 16, kernel_size=(3, 3), stride=(1, 1), padding=(1, 1), bias=False)\n",
              "          (1): BatchNorm2d(16, eps=1e-05, momentum=0.1, affine=True, track_running_stats=True)\n",
              "          (2): ReLU(inplace=True)\n",
              "        )\n",
              "        (attention2): Attention(\n",
              "          (attention): Identity()\n",
              "        )\n",
              "      )\n",
              "    )\n",
              "  )\n",
              "  (segmentation_head): SegmentationHead(\n",
              "    (0): Conv2d(16, 2, kernel_size=(3, 3), stride=(1, 1), padding=(1, 1))\n",
              "    (1): Identity()\n",
              "    (2): Activation(\n",
              "      (activation): Sigmoid()\n",
              "    )\n",
              "  )\n",
              ")"
            ]
          },
          "metadata": {},
          "execution_count": 35
        }
      ],
      "source": [
        "model"
      ],
      "id": "QU1HoAdDvKCE"
    },
    {
      "cell_type": "code",
      "source": [
        "CUDA_LAUNCH_BLOCKING=1"
      ],
      "metadata": {
        "id": "MeC4aO8Sx7SQ"
      },
      "id": "MeC4aO8Sx7SQ",
      "execution_count": null,
      "outputs": []
    },
    {
      "cell_type": "code",
      "execution_count": null,
      "metadata": {
        "colab": {
          "base_uri": "https://localhost:8080/",
          "height": 426,
          "referenced_widgets": [
            "95a9f19237ff4283a8d328e9f210cabf",
            "20518135a70149428d304d88f7e2c96a",
            "505303a2169f4edc824df1f5ca9034de",
            "d493bb5e72614b2380f10113ceee4c67",
            "665a9f5b5a4e4fc592bbedd6cf1cd2a5",
            "b61f3a17853d4ce29110171ecdf4e541",
            "bf57613506dc412c97ca845761710e54",
            "e599ac5b65684d8190b0d3af3bdf2320",
            "dceb0f1970af4ca1b77cc74491313dd8",
            "2ab6a1edf0de4ee78cc1cf2cb3a395ba",
            "ead0e61bbd814c59b6c9d01920b2b068"
          ]
        },
        "id": "4_lCaattvKCE",
        "outputId": "b0f0aa0f-1121-4794-9177-a8fa41715b35"
      },
      "outputs": [
        {
          "output_type": "display_data",
          "data": {
            "text/plain": [
              "  0%|          | 0/451 [00:00<?, ?it/s]"
            ],
            "application/vnd.jupyter.widget-view+json": {
              "version_major": 2,
              "version_minor": 0,
              "model_id": "95a9f19237ff4283a8d328e9f210cabf"
            }
          },
          "metadata": {}
        },
        {
          "output_type": "error",
          "ename": "IndexError",
          "evalue": "ignored",
          "traceback": [
            "\u001b[0;31m---------------------------------------------------------------------------\u001b[0m",
            "\u001b[0;31mIndexError\u001b[0m                                Traceback (most recent call last)",
            "\u001b[0;32m<ipython-input-37-06065bf67f35>\u001b[0m in \u001b[0;36m<module>\u001b[0;34m()\u001b[0m\n\u001b[1;32m      8\u001b[0m                                             steps_per_epoch=len(train_loader))\n\u001b[1;32m      9\u001b[0m \u001b[0;34m\u001b[0m\u001b[0m\n\u001b[0;32m---> 10\u001b[0;31m \u001b[0mhistory\u001b[0m \u001b[0;34m=\u001b[0m \u001b[0mfit\u001b[0m\u001b[0;34m(\u001b[0m\u001b[0mepoch\u001b[0m\u001b[0;34m,\u001b[0m \u001b[0mmodel\u001b[0m\u001b[0;34m,\u001b[0m \u001b[0mtrain_loader\u001b[0m\u001b[0;34m,\u001b[0m \u001b[0mval_loader\u001b[0m\u001b[0;34m,\u001b[0m \u001b[0mcriterion\u001b[0m\u001b[0;34m,\u001b[0m \u001b[0moptimizer\u001b[0m\u001b[0;34m,\u001b[0m \u001b[0msched\u001b[0m\u001b[0;34m)\u001b[0m\u001b[0;34m\u001b[0m\u001b[0;34m\u001b[0m\u001b[0m\n\u001b[0m",
            "\u001b[0;32m<ipython-input-32-19da9f806dfc>\u001b[0m in \u001b[0;36mfit\u001b[0;34m(epochs, model, train_loader, val_loader, criterion, optimizer, scheduler, patch)\u001b[0m\n\u001b[1;32m     35\u001b[0m             \u001b[0;31m#forward\u001b[0m\u001b[0;34m\u001b[0m\u001b[0;34m\u001b[0m\u001b[0;34m\u001b[0m\u001b[0m\n\u001b[1;32m     36\u001b[0m             \u001b[0moutput\u001b[0m \u001b[0;34m=\u001b[0m \u001b[0mmodel\u001b[0m\u001b[0;34m(\u001b[0m\u001b[0mimage\u001b[0m\u001b[0;34m)\u001b[0m\u001b[0;34m\u001b[0m\u001b[0;34m\u001b[0m\u001b[0m\n\u001b[0;32m---> 37\u001b[0;31m             \u001b[0mloss\u001b[0m \u001b[0;34m=\u001b[0m \u001b[0mcriterion\u001b[0m\u001b[0;34m(\u001b[0m\u001b[0moutput\u001b[0m\u001b[0;34m,\u001b[0m \u001b[0mmask\u001b[0m\u001b[0;34m)\u001b[0m\u001b[0;34m\u001b[0m\u001b[0;34m\u001b[0m\u001b[0m\n\u001b[0m\u001b[1;32m     38\u001b[0m             \u001b[0;31m#evaluation metrics\u001b[0m\u001b[0;34m\u001b[0m\u001b[0;34m\u001b[0m\u001b[0;34m\u001b[0m\u001b[0m\n\u001b[1;32m     39\u001b[0m             \u001b[0miou_score\u001b[0m \u001b[0;34m+=\u001b[0m \u001b[0mmIoU\u001b[0m\u001b[0;34m(\u001b[0m\u001b[0moutput\u001b[0m\u001b[0;34m,\u001b[0m \u001b[0mmask\u001b[0m\u001b[0;34m)\u001b[0m\u001b[0;34m\u001b[0m\u001b[0;34m\u001b[0m\u001b[0m\n",
            "\u001b[0;32m/usr/local/lib/python3.7/dist-packages/torch/nn/modules/module.py\u001b[0m in \u001b[0;36m_call_impl\u001b[0;34m(self, *input, **kwargs)\u001b[0m\n\u001b[1;32m   1108\u001b[0m         if not (self._backward_hooks or self._forward_hooks or self._forward_pre_hooks or _global_backward_hooks\n\u001b[1;32m   1109\u001b[0m                 or _global_forward_hooks or _global_forward_pre_hooks):\n\u001b[0;32m-> 1110\u001b[0;31m             \u001b[0;32mreturn\u001b[0m \u001b[0mforward_call\u001b[0m\u001b[0;34m(\u001b[0m\u001b[0;34m*\u001b[0m\u001b[0minput\u001b[0m\u001b[0;34m,\u001b[0m \u001b[0;34m**\u001b[0m\u001b[0mkwargs\u001b[0m\u001b[0;34m)\u001b[0m\u001b[0;34m\u001b[0m\u001b[0;34m\u001b[0m\u001b[0m\n\u001b[0m\u001b[1;32m   1111\u001b[0m         \u001b[0;31m# Do not call functions when jit is used\u001b[0m\u001b[0;34m\u001b[0m\u001b[0;34m\u001b[0m\u001b[0;34m\u001b[0m\u001b[0m\n\u001b[1;32m   1112\u001b[0m         \u001b[0mfull_backward_hooks\u001b[0m\u001b[0;34m,\u001b[0m \u001b[0mnon_full_backward_hooks\u001b[0m \u001b[0;34m=\u001b[0m \u001b[0;34m[\u001b[0m\u001b[0;34m]\u001b[0m\u001b[0;34m,\u001b[0m \u001b[0;34m[\u001b[0m\u001b[0;34m]\u001b[0m\u001b[0;34m\u001b[0m\u001b[0;34m\u001b[0m\u001b[0m\n",
            "\u001b[0;32m/usr/local/lib/python3.7/dist-packages/torch/nn/modules/loss.py\u001b[0m in \u001b[0;36mforward\u001b[0;34m(self, input, target)\u001b[0m\n\u001b[1;32m   1163\u001b[0m         return F.cross_entropy(input, target, weight=self.weight,\n\u001b[1;32m   1164\u001b[0m                                \u001b[0mignore_index\u001b[0m\u001b[0;34m=\u001b[0m\u001b[0mself\u001b[0m\u001b[0;34m.\u001b[0m\u001b[0mignore_index\u001b[0m\u001b[0;34m,\u001b[0m \u001b[0mreduction\u001b[0m\u001b[0;34m=\u001b[0m\u001b[0mself\u001b[0m\u001b[0;34m.\u001b[0m\u001b[0mreduction\u001b[0m\u001b[0;34m,\u001b[0m\u001b[0;34m\u001b[0m\u001b[0;34m\u001b[0m\u001b[0m\n\u001b[0;32m-> 1165\u001b[0;31m                                label_smoothing=self.label_smoothing)\n\u001b[0m\u001b[1;32m   1166\u001b[0m \u001b[0;34m\u001b[0m\u001b[0m\n\u001b[1;32m   1167\u001b[0m \u001b[0;34m\u001b[0m\u001b[0m\n",
            "\u001b[0;32m/usr/local/lib/python3.7/dist-packages/torch/nn/functional.py\u001b[0m in \u001b[0;36mcross_entropy\u001b[0;34m(input, target, weight, size_average, ignore_index, reduce, reduction, label_smoothing)\u001b[0m\n\u001b[1;32m   2994\u001b[0m     \u001b[0;32mif\u001b[0m \u001b[0msize_average\u001b[0m \u001b[0;32mis\u001b[0m \u001b[0;32mnot\u001b[0m \u001b[0;32mNone\u001b[0m \u001b[0;32mor\u001b[0m \u001b[0mreduce\u001b[0m \u001b[0;32mis\u001b[0m \u001b[0;32mnot\u001b[0m \u001b[0;32mNone\u001b[0m\u001b[0;34m:\u001b[0m\u001b[0;34m\u001b[0m\u001b[0;34m\u001b[0m\u001b[0m\n\u001b[1;32m   2995\u001b[0m         \u001b[0mreduction\u001b[0m \u001b[0;34m=\u001b[0m \u001b[0m_Reduction\u001b[0m\u001b[0;34m.\u001b[0m\u001b[0mlegacy_get_string\u001b[0m\u001b[0;34m(\u001b[0m\u001b[0msize_average\u001b[0m\u001b[0;34m,\u001b[0m \u001b[0mreduce\u001b[0m\u001b[0;34m)\u001b[0m\u001b[0;34m\u001b[0m\u001b[0;34m\u001b[0m\u001b[0m\n\u001b[0;32m-> 2996\u001b[0;31m     \u001b[0;32mreturn\u001b[0m \u001b[0mtorch\u001b[0m\u001b[0;34m.\u001b[0m\u001b[0m_C\u001b[0m\u001b[0;34m.\u001b[0m\u001b[0m_nn\u001b[0m\u001b[0;34m.\u001b[0m\u001b[0mcross_entropy_loss\u001b[0m\u001b[0;34m(\u001b[0m\u001b[0minput\u001b[0m\u001b[0;34m,\u001b[0m \u001b[0mtarget\u001b[0m\u001b[0;34m,\u001b[0m \u001b[0mweight\u001b[0m\u001b[0;34m,\u001b[0m \u001b[0m_Reduction\u001b[0m\u001b[0;34m.\u001b[0m\u001b[0mget_enum\u001b[0m\u001b[0;34m(\u001b[0m\u001b[0mreduction\u001b[0m\u001b[0;34m)\u001b[0m\u001b[0;34m,\u001b[0m \u001b[0mignore_index\u001b[0m\u001b[0;34m,\u001b[0m \u001b[0mlabel_smoothing\u001b[0m\u001b[0;34m)\u001b[0m\u001b[0;34m\u001b[0m\u001b[0;34m\u001b[0m\u001b[0m\n\u001b[0m\u001b[1;32m   2997\u001b[0m \u001b[0;34m\u001b[0m\u001b[0m\n\u001b[1;32m   2998\u001b[0m \u001b[0;34m\u001b[0m\u001b[0m\n",
            "\u001b[0;31mIndexError\u001b[0m: Target 255 is out of bounds."
          ]
        }
      ],
      "source": [
        "max_lr = 1e-3\n",
        "epoch = 15\n",
        "weight_decay = 1e-4\n",
        "\n",
        "criterion = nn.CrossEntropyLoss()\n",
        "optimizer = torch.optim.AdamW(model.parameters(), lr=max_lr, weight_decay=weight_decay)\n",
        "sched = torch.optim.lr_scheduler.OneCycleLR(optimizer, max_lr, epochs=epoch,\n",
        "                                            steps_per_epoch=len(train_loader))\n",
        "\n",
        "history = fit(epoch, model, train_loader, val_loader, criterion, optimizer, sched)"
      ],
      "id": "4_lCaattvKCE"
    },
    {
      "cell_type": "code",
      "execution_count": null,
      "metadata": {
        "id": "tOgV-9bDvKCF"
      },
      "outputs": [],
      "source": [
        "torch.save(model, 'Unet-Mobilenet.pt')"
      ],
      "id": "tOgV-9bDvKCF"
    },
    {
      "cell_type": "code",
      "execution_count": null,
      "metadata": {
        "id": "HZHyMCq1vKCF"
      },
      "outputs": [],
      "source": [
        "def plot_loss(history):\n",
        "    plt.plot(history['val_loss'], label='val', marker='o')\n",
        "    plt.plot( history['train_loss'], label='train', marker='o')\n",
        "    plt.title('Loss per epoch'); plt.ylabel('loss');\n",
        "    plt.xlabel('epoch')\n",
        "    plt.legend(), plt.grid()\n",
        "    plt.show()\n",
        "\n",
        "def plot_score(history):\n",
        "    plt.plot(history['train_miou'], label='train_mIoU', marker='*')\n",
        "    plt.plot(history['val_miou'], label='val_mIoU',  marker='*')\n",
        "    plt.title('Score per epoch'); plt.ylabel('mean IoU')\n",
        "    plt.xlabel('epoch')\n",
        "    plt.legend(), plt.grid()\n",
        "    plt.show()\n",
        "\n",
        "def plot_acc(history):\n",
        "    plt.plot(history['train_acc'], label='train_accuracy', marker='*')\n",
        "    plt.plot(history['val_acc'], label='val_accuracy',  marker='*')\n",
        "    plt.title('Accuracy per epoch'); plt.ylabel('Accuracy')\n",
        "    plt.xlabel('epoch')\n",
        "    plt.legend(), plt.grid()\n",
        "    plt.show()"
      ],
      "id": "HZHyMCq1vKCF"
    },
    {
      "cell_type": "code",
      "execution_count": null,
      "metadata": {
        "id": "ePXo88VnvKCG"
      },
      "outputs": [],
      "source": [
        "plot_loss(history)\n",
        "plot_score(history)\n",
        "plot_acc(history)"
      ],
      "id": "ePXo88VnvKCG"
    },
    {
      "cell_type": "code",
      "execution_count": null,
      "metadata": {
        "id": "SJiplZJmvKCH"
      },
      "outputs": [],
      "source": [
        "max_lr = 1e-3\n",
        "epoch = 50\n",
        "weight_decay = 1e-4\n",
        "\n",
        "criterion = nn.CrossEntropyLoss()\n",
        "optimizer = torch.optim.AdamW(model.parameters(), lr=max_lr, weight_decay=weight_decay)\n",
        "sched = torch.optim.lr_scheduler.OneCycleLR(optimizer, max_lr, epochs=epoch,\n",
        "                                            steps_per_epoch=len(train_loader))\n",
        "\n",
        "history1 = fit(epoch, model, train_loader, val_loader, criterion, optimizer, sched)"
      ],
      "id": "SJiplZJmvKCH"
    },
    {
      "cell_type": "code",
      "execution_count": null,
      "metadata": {
        "id": "cOdjCgY1vKCI"
      },
      "outputs": [],
      "source": [
        "torch.save(model, 'Unet-Mobilenet1.pt')"
      ],
      "id": "cOdjCgY1vKCI"
    },
    {
      "cell_type": "code",
      "execution_count": null,
      "metadata": {
        "id": "ongWFNtvvKCI"
      },
      "outputs": [],
      "source": [
        "max_lr = 1e-3\n",
        "epoch = 50\n",
        "weight_decay = 1e-4\n",
        "\n",
        "criterion = nn.CrossEntropyLoss()\n",
        "optimizer = torch.optim.AdamW(model.parameters(), lr=max_lr, weight_decay=weight_decay)\n",
        "sched = torch.optim.lr_scheduler.OneCycleLR(optimizer, max_lr, epochs=epoch,\n",
        "                                            steps_per_epoch=len(train_loader))\n",
        "\n",
        "history1 = fit(epoch, model, train_loader, val_loader, criterion, optimizer, sched)"
      ],
      "id": "ongWFNtvvKCI"
    },
    {
      "cell_type": "code",
      "execution_count": null,
      "metadata": {
        "id": "wzKCGa0rvKCI"
      },
      "outputs": [],
      "source": [
        "def plot_loss(history):\n",
        "    plt.plot(history['val_loss'], label='val', marker='o')\n",
        "    plt.plot( history['train_loss'], label='train', marker='o')\n",
        "    plt.title('Loss per epoch'); plt.ylabel('loss');\n",
        "    plt.xlabel('epoch')\n",
        "    plt.legend(), plt.grid()\n",
        "    plt.show()\n",
        "\n",
        "def plot_score(history):\n",
        "    plt.plot(history['train_miou'], label='train_mIoU', marker='*')\n",
        "    plt.plot(history['val_miou'], label='val_mIoU',  marker='*')\n",
        "    plt.title('Score per epoch'); plt.ylabel('mean IoU')\n",
        "    plt.xlabel('epoch')\n",
        "    plt.legend(), plt.grid()\n",
        "    plt.show()\n",
        "\n",
        "def plot_acc(history):\n",
        "    plt.plot(history['train_acc'], label='train_accuracy', marker='*')\n",
        "    plt.plot(history['val_acc'], label='val_accuracy',  marker='*')\n",
        "    plt.title('Accuracy per epoch'); plt.ylabel('Accuracy')\n",
        "    plt.xlabel('epoch')\n",
        "    plt.legend(), plt.grid()\n",
        "    plt.show()"
      ],
      "id": "wzKCGa0rvKCI"
    },
    {
      "cell_type": "code",
      "execution_count": null,
      "metadata": {
        "id": "cFLKB80OvKCJ"
      },
      "outputs": [],
      "source": [
        "plot_loss(history)\n",
        "plot_score(history)\n",
        "plot_acc(history)"
      ],
      "id": "cFLKB80OvKCJ"
    },
    {
      "cell_type": "code",
      "execution_count": null,
      "metadata": {
        "id": "-67UN1bDvKCJ"
      },
      "outputs": [],
      "source": [
        "class DroneTestDataset(Dataset):\n",
        "\n",
        "    def __init__(self, img_path, mask_path, X, transform=None):\n",
        "        self.img_path = img_path\n",
        "        self.mask_path = mask_path\n",
        "        self.X = X\n",
        "        self.transform = transform\n",
        "\n",
        "    def __len__(self):\n",
        "        return len(self.X)\n",
        "\n",
        "    def __getitem__(self, idx):\n",
        "        img = cv2.imread(self.img_path + self.X[idx] + '.jpg')\n",
        "        img = cv2.cvtColor(img, cv2.COLOR_BGR2RGB)\n",
        "        mask = cv2.imread(self.mask_path + self.X[idx] + '.png', cv2.IMREAD_GRAYSCALE)\n",
        "\n",
        "        if self.transform is not None:\n",
        "            aug = self.transform(image=img, mask=mask)\n",
        "            img = Image.fromarray(aug['image'])\n",
        "            mask = aug['mask']\n",
        "\n",
        "        if self.transform is None:\n",
        "            img = Image.fromarray(img)\n",
        "\n",
        "        mask = torch.from_numpy(mask).long()\n",
        "\n",
        "        return img, mask\n",
        "\n",
        "\n",
        "t_test = A.Resize(256, 256, interpolation=cv2.INTER_NEAREST)\n",
        "test_set = DroneTestDataset(IMAGE_PATH, MASK_PATH, X_test, transform=t_test)"
      ],
      "id": "-67UN1bDvKCJ"
    },
    {
      "cell_type": "code",
      "execution_count": null,
      "metadata": {
        "id": "1L_BC4V9vKCJ"
      },
      "outputs": [],
      "source": [
        "def predict_image_mask_miou(model, image, mask, mean=[0.485, 0.456, 0.406], std=[0.229, 0.224, 0.225]):\n",
        "    model.eval()\n",
        "    t = T.Compose([T.ToTensor(), T.Normalize(mean, std)])\n",
        "    image = t(image)\n",
        "    model.to(device); image=image.to(device)\n",
        "    mask = mask.to(device)\n",
        "    with torch.no_grad():\n",
        "\n",
        "        image = image.unsqueeze(0)\n",
        "        mask = mask.unsqueeze(0)\n",
        "\n",
        "        output = model(image)\n",
        "        score = mIoU(output, mask)\n",
        "        masked = torch.argmax(output, dim=1)\n",
        "        masked = masked.cpu().squeeze(0)\n",
        "    return masked, score"
      ],
      "id": "1L_BC4V9vKCJ"
    },
    {
      "cell_type": "code",
      "execution_count": null,
      "metadata": {
        "id": "cJP-upPavKCK"
      },
      "outputs": [],
      "source": [
        "def predict_image_mask_pixel(model, image, mask, mean=[0.485, 0.456, 0.406], std=[0.229, 0.224, 0.225]):\n",
        "    model.eval()\n",
        "    t = T.Compose([T.ToTensor(), T.Normalize(mean, std)])\n",
        "    image = t(image)\n",
        "    model.to(device); image=image.to(device)\n",
        "    mask = mask.to(device)\n",
        "    with torch.no_grad():\n",
        "\n",
        "        image = image.unsqueeze(0)\n",
        "        mask = mask.unsqueeze(0)\n",
        "\n",
        "        output = model(image)\n",
        "        acc = pixel_accuracy(output, mask)\n",
        "        masked = torch.argmax(output, dim=1)\n",
        "        masked = masked.cpu().squeeze(0)\n",
        "    return masked, acc"
      ],
      "id": "cJP-upPavKCK"
    },
    {
      "cell_type": "code",
      "execution_count": null,
      "metadata": {
        "id": "c0HUugPwvKCL"
      },
      "outputs": [],
      "source": [
        "image, mask = test_set[18]\n",
        "pred_mask, score = predict_image_mask_miou(model, image, mask)"
      ],
      "id": "c0HUugPwvKCL"
    },
    {
      "cell_type": "code",
      "execution_count": null,
      "metadata": {
        "id": "cdD0ywxWvKCL"
      },
      "outputs": [],
      "source": [
        "def miou_score(model, test_set):\n",
        "    score_iou = []\n",
        "    for i in tqdm(range(len(test_set))):\n",
        "        img, mask = test_set[i]\n",
        "        pred_mask, score = predict_image_mask_miou(model, img, mask)\n",
        "        score_iou.append(score)\n",
        "    return score_iou"
      ],
      "id": "cdD0ywxWvKCL"
    },
    {
      "cell_type": "code",
      "execution_count": null,
      "metadata": {
        "id": "ZeUUWTEevKCM"
      },
      "outputs": [],
      "source": [
        "mob_miou = miou_score(model, test_set)\n",
        "mob_miou"
      ],
      "id": "ZeUUWTEevKCM"
    },
    {
      "cell_type": "code",
      "execution_count": null,
      "metadata": {
        "id": "GLpoc1NcvKCM"
      },
      "outputs": [],
      "source": [
        "print('Test Set mIoU', np.mean(mob_miou))"
      ],
      "id": "GLpoc1NcvKCM"
    },
    {
      "cell_type": "code",
      "execution_count": null,
      "metadata": {
        "id": "-80bNvakvKCM"
      },
      "outputs": [],
      "source": [
        "fig, (ax1, ax2, ax3) = plt.subplots(1,3, figsize=(20,10))\n",
        "ax1.imshow(image)\n",
        "ax1.set_title('Picture');\n",
        "\n",
        "ax2.imshow(mask)\n",
        "ax2.set_title('Ground truth')\n",
        "ax2.set_axis_off()\n",
        "\n",
        "ax3.imshow(pred_mask)\n",
        "ax3.set_title('UNet-MobileNet | mIoU {:.3f}'.format(score))\n",
        "ax3.set_axis_off()"
      ],
      "id": "-80bNvakvKCM"
    },
    {
      "cell_type": "markdown",
      "metadata": {
        "id": "dPSXbQDuvKCM"
      },
      "source": [
        "# ResNet50"
      ],
      "id": "dPSXbQDuvKCM"
    },
    {
      "cell_type": "code",
      "execution_count": null,
      "metadata": {
        "id": "VZUkOvx-vKCN"
      },
      "outputs": [],
      "source": [
        "model = smp.Unet('resnet50', encoder_weights='imagenet', classes=23, activation=None, encoder_depth=5, decoder_channels=[256, 128, 64, 32, 16])"
      ],
      "id": "VZUkOvx-vKCN"
    },
    {
      "cell_type": "code",
      "execution_count": null,
      "metadata": {
        "id": "AWQJlG8QvKCN"
      },
      "outputs": [],
      "source": [
        "model"
      ],
      "id": "AWQJlG8QvKCN"
    },
    {
      "cell_type": "code",
      "execution_count": null,
      "metadata": {
        "id": "dz3d1SkFvKCN"
      },
      "outputs": [],
      "source": [
        "max_lr = 1e-3\n",
        "epoch = 20\n",
        "weight_decay = 1e-4\n",
        "\n",
        "criterion = nn.CrossEntropyLoss()\n",
        "optimizer = torch.optim.AdamW(model.parameters(), lr=max_lr, weight_decay=weight_decay)\n",
        "sched = torch.optim.lr_scheduler.OneCycleLR(optimizer, max_lr, epochs=epoch,\n",
        "                                            steps_per_epoch=len(train_loader))\n",
        "\n",
        "history = fit(epoch, model, train_loader, val_loader, criterion, optimizer, sched)"
      ],
      "id": "dz3d1SkFvKCN"
    },
    {
      "cell_type": "code",
      "execution_count": null,
      "metadata": {
        "id": "6QQf4wZevKCN"
      },
      "outputs": [],
      "source": [
        "torch.save(model, 'Unet-Resnet50.pt')"
      ],
      "id": "6QQf4wZevKCN"
    },
    {
      "cell_type": "code",
      "execution_count": null,
      "metadata": {
        "id": "LJqtJihOvKCO"
      },
      "outputs": [],
      "source": [
        "def plot_loss(history):\n",
        "    plt.plot(history['val_loss'], label='val', marker='o')\n",
        "    plt.plot( history['train_loss'], label='train', marker='o')\n",
        "    plt.title('Loss per epoch'); plt.ylabel('loss');\n",
        "    plt.xlabel('epoch')\n",
        "    plt.legend(), plt.grid()\n",
        "    plt.show()\n",
        "\n",
        "def plot_score(history):\n",
        "    plt.plot(history['train_miou'], label='train_mIoU', marker='*')\n",
        "    plt.plot(history['val_miou'], label='val_mIoU',  marker='*')\n",
        "    plt.title('Score per epoch'); plt.ylabel('mean IoU')\n",
        "    plt.xlabel('epoch')\n",
        "    plt.legend(), plt.grid()\n",
        "    plt.show()\n",
        "\n",
        "def plot_acc(history):\n",
        "    plt.plot(history['train_acc'], label='train_accuracy', marker='*')\n",
        "    plt.plot(history['val_acc'], label='val_accuracy',  marker='*')\n",
        "    plt.title('Accuracy per epoch'); plt.ylabel('Accuracy')\n",
        "    plt.xlabel('epoch')\n",
        "    plt.legend(), plt.grid()\n",
        "    plt.show()"
      ],
      "id": "LJqtJihOvKCO"
    },
    {
      "cell_type": "code",
      "execution_count": null,
      "metadata": {
        "id": "xqJ6UGtZvKCO"
      },
      "outputs": [],
      "source": [
        "plot_loss(history)\n",
        "plot_score(history)\n",
        "plot_acc(history)"
      ],
      "id": "xqJ6UGtZvKCO"
    },
    {
      "cell_type": "code",
      "execution_count": null,
      "metadata": {
        "id": "Jxn-WHuCvKCO"
      },
      "outputs": [],
      "source": [
        "image, mask = test_set[18]\n",
        "pred_mask, score = predict_image_mask_miou(model, image, mask)"
      ],
      "id": "Jxn-WHuCvKCO"
    },
    {
      "cell_type": "code",
      "execution_count": null,
      "metadata": {
        "id": "S-gE_RCPvKCO"
      },
      "outputs": [],
      "source": [
        "mob_miou = miou_score(model, test_set)\n",
        "mob_miou"
      ],
      "id": "S-gE_RCPvKCO"
    },
    {
      "cell_type": "code",
      "execution_count": null,
      "metadata": {
        "id": "G6itYSXavKCO"
      },
      "outputs": [],
      "source": [
        "print('Test Set mIoU', np.mean(mob_miou))"
      ],
      "id": "G6itYSXavKCO"
    },
    {
      "cell_type": "code",
      "execution_count": null,
      "metadata": {
        "id": "N9o4v4jgvKCP"
      },
      "outputs": [],
      "source": [
        "fig, (ax1, ax2, ax3) = plt.subplots(1,3, figsize=(20,10))\n",
        "ax1.imshow(image)\n",
        "ax1.set_title('Picture');\n",
        "\n",
        "ax2.imshow(mask)\n",
        "ax2.set_title('Ground truth')\n",
        "ax2.set_axis_off()\n",
        "\n",
        "ax3.imshow(pred_mask)\n",
        "ax3.set_title('UNet-MobileNet | mIoU {:.3f}'.format(score))\n",
        "ax3.set_axis_off()"
      ],
      "id": "N9o4v4jgvKCP"
    },
    {
      "cell_type": "markdown",
      "metadata": {
        "id": "Y-sZvX4pvKCP"
      },
      "source": [
        "# VGG19"
      ],
      "id": "Y-sZvX4pvKCP"
    },
    {
      "cell_type": "code",
      "execution_count": null,
      "metadata": {
        "id": "v3tbGnk0vKCP"
      },
      "outputs": [],
      "source": [
        "model = smp.Unet('vgg19', encoder_weights='imagenet', classes=23, activation=None, encoder_depth=5, decoder_channels=[256, 128, 64, 32, 16])"
      ],
      "id": "v3tbGnk0vKCP"
    },
    {
      "cell_type": "code",
      "execution_count": null,
      "metadata": {
        "id": "v9-so1ktvKCP"
      },
      "outputs": [],
      "source": [
        "model"
      ],
      "id": "v9-so1ktvKCP"
    },
    {
      "cell_type": "code",
      "execution_count": null,
      "metadata": {
        "id": "-Lnb2agtvKCQ"
      },
      "outputs": [],
      "source": [
        "max_lr = 1e-3\n",
        "epoch = 15\n",
        "weight_decay = 1e-4\n",
        "\n",
        "criterion = nn.CrossEntropyLoss()\n",
        "optimizer = torch.optim.AdamW(model.parameters(), lr=max_lr, weight_decay=weight_decay)\n",
        "sched = torch.optim.lr_scheduler.OneCycleLR(optimizer, max_lr, epochs=epoch,\n",
        "                                            steps_per_epoch=len(train_loader))\n",
        "\n",
        "history = fit(epoch, model, train_loader, val_loader, criterion, optimizer, sched)"
      ],
      "id": "-Lnb2agtvKCQ"
    },
    {
      "cell_type": "markdown",
      "metadata": {
        "id": "0weNkxlQvKCQ"
      },
      "source": [
        "import torch\n",
        "torch.cuda.empty_cache()"
      ],
      "id": "0weNkxlQvKCQ"
    },
    {
      "cell_type": "markdown",
      "metadata": {
        "id": "F-i5awJwvKCQ"
      },
      "source": [
        "# DenseNet 121"
      ],
      "id": "F-i5awJwvKCQ"
    },
    {
      "cell_type": "code",
      "execution_count": null,
      "metadata": {
        "id": "uPOSljdfvKCQ"
      },
      "outputs": [],
      "source": [
        "model = smp.Unet('densenet201', encoder_weights='imagenet', classes=23, activation=None, encoder_depth=5, decoder_channels=[256, 128, 64, 32, 16])"
      ],
      "id": "uPOSljdfvKCQ"
    },
    {
      "cell_type": "code",
      "execution_count": null,
      "metadata": {
        "id": "ZaS8F1mfvKCR"
      },
      "outputs": [],
      "source": [
        "max_lr = 1e-3\n",
        "epoch = 15\n",
        "weight_decay = 1e-4\n",
        "\n",
        "criterion = nn.CrossEntropyLoss()\n",
        "optimizer = torch.optim.AdamW(model.parameters(), lr=max_lr, weight_decay=weight_decay)\n",
        "sched = torch.optim.lr_scheduler.OneCycleLR(optimizer, max_lr, epochs=epoch,\n",
        "                                            steps_per_epoch=len(train_loader))\n",
        "\n",
        "history = fit(epoch, model, train_loader, val_loader, criterion, optimizer, sched)"
      ],
      "id": "ZaS8F1mfvKCR"
    },
    {
      "cell_type": "code",
      "execution_count": null,
      "metadata": {
        "id": "YYqlQCLavKCR"
      },
      "outputs": [],
      "source": [
        "aux_params=dict(pooling='max', dropout=0.5)\n"
      ],
      "id": "YYqlQCLavKCR"
    },
    {
      "cell_type": "code",
      "execution_count": null,
      "metadata": {
        "id": "IDdAqeJ2vKCR"
      },
      "outputs": [],
      "source": [
        "model = smp.Unet('resnet50', encoder_weights='imagenet',decoder_use_batchnorm = False ,classes=23, activation=None, encoder_depth=5, decoder_channels=[ 256, 256,128,64,16])"
      ],
      "id": "IDdAqeJ2vKCR"
    },
    {
      "cell_type": "code",
      "execution_count": null,
      "metadata": {
        "id": "_oWVd7E3vKCR"
      },
      "outputs": [],
      "source": [
        "model"
      ],
      "id": "_oWVd7E3vKCR"
    },
    {
      "cell_type": "code",
      "execution_count": null,
      "metadata": {
        "id": "N9RhdDUXvKCS"
      },
      "outputs": [],
      "source": [
        "max_lr = 1e-3\n",
        "epoch = 15\n",
        "weight_decay = 1e-4\n",
        "\n",
        "criterion = nn.CrossEntropyLoss()\n",
        "optimizer = torch.optim.AdamW(model.parameters(), lr=max_lr, weight_decay=weight_decay)\n",
        "sched = torch.optim.lr_scheduler.OneCycleLR(optimizer, max_lr, epochs=epoch,\n",
        "                                            steps_per_epoch=len(train_loader))\n",
        "\n",
        "history = fit(epoch, model, train_loader, val_loader, criterion, optimizer, sched)"
      ],
      "id": "N9RhdDUXvKCS"
    },
    {
      "cell_type": "code",
      "execution_count": null,
      "metadata": {
        "id": "gaHZrfnavKCS"
      },
      "outputs": [],
      "source": [],
      "id": "gaHZrfnavKCS"
    },
    {
      "cell_type": "code",
      "execution_count": null,
      "metadata": {
        "id": "7EbMLrRcvKCS"
      },
      "outputs": [],
      "source": [],
      "id": "7EbMLrRcvKCS"
    },
    {
      "cell_type": "code",
      "execution_count": null,
      "metadata": {
        "id": "GvxToOBwvKCS"
      },
      "outputs": [],
      "source": [
        "model = smp.Unet('resnet101', encoder_weights='imagenet',decoder_use_batchnorm = False ,classes=23, activation=None, encoder_depth=5, decoder_channels=[ 256, 256,128,64,16])"
      ],
      "id": "GvxToOBwvKCS"
    },
    {
      "cell_type": "code",
      "execution_count": null,
      "metadata": {
        "id": "SqYw9d5WvKCS"
      },
      "outputs": [],
      "source": [
        "model"
      ],
      "id": "SqYw9d5WvKCS"
    },
    {
      "cell_type": "code",
      "execution_count": null,
      "metadata": {
        "id": "l8rVKPPyvKCT"
      },
      "outputs": [],
      "source": [
        "max_lr = 0.01\n",
        "epoch = 50\n",
        "weight_decay = 1e-4\n",
        "momentum =0.9\n",
        "\n",
        "criterion = nn.CrossEntropyLoss()\n",
        "optimizer = torch.optim.SGD(model.parameters(), lr=max_lr,momentum= momentum, weight_decay=weight_decay)\n",
        "sched = torch.optim.lr_scheduler.OneCycleLR(optimizer, max_lr, epochs=epoch,\n",
        "                                            steps_per_epoch=len(train_loader))\n",
        "\n",
        "history = fit(epoch, model, train_loader, val_loader, criterion, optimizer, sched)"
      ],
      "id": "l8rVKPPyvKCT"
    },
    {
      "cell_type": "code",
      "execution_count": null,
      "metadata": {
        "id": "sdQmKXwFvKCT"
      },
      "outputs": [],
      "source": [],
      "id": "sdQmKXwFvKCT"
    },
    {
      "cell_type": "code",
      "execution_count": null,
      "metadata": {
        "id": "dvhiYrWovKCT"
      },
      "outputs": [],
      "source": [],
      "id": "dvhiYrWovKCT"
    },
    {
      "cell_type": "code",
      "execution_count": null,
      "metadata": {
        "id": "T6MyVeByvKCT"
      },
      "outputs": [],
      "source": [],
      "id": "T6MyVeByvKCT"
    },
    {
      "cell_type": "code",
      "execution_count": null,
      "metadata": {
        "id": "4iZK8convKCT"
      },
      "outputs": [],
      "source": [
        "model = smp.Unet('resnet50', encoder_weights='imagenet',decoder_use_batchnorm = False ,classes=23, activation=None, encoder_depth=5, decoder_channels=[ 256, 256,128,64,16])"
      ],
      "id": "4iZK8convKCT"
    },
    {
      "cell_type": "code",
      "execution_count": null,
      "metadata": {
        "id": "FFo_XA5OvKCT"
      },
      "outputs": [],
      "source": [
        "model"
      ],
      "id": "FFo_XA5OvKCT"
    },
    {
      "cell_type": "code",
      "execution_count": null,
      "metadata": {
        "id": "i9MRhBuFvKCU"
      },
      "outputs": [],
      "source": [
        "max_lr = 1e-3\n",
        "epoch = 50\n",
        "weight_decay = 1e-4\n",
        "\n",
        "criterion = nn.CrossEntropyLoss()\n",
        "optimizer = torch.optim.AdamW(model.parameters(), lr=max_lr, weight_decay=weight_decay)\n",
        "sched = torch.optim.lr_scheduler.OneCycleLR(optimizer, max_lr, epochs=epoch,\n",
        "                                            steps_per_epoch=len(train_loader))\n",
        "\n",
        "history = fit(epoch, model, train_loader, val_loader, criterion, optimizer, sched)"
      ],
      "id": "i9MRhBuFvKCU"
    },
    {
      "cell_type": "code",
      "execution_count": null,
      "metadata": {
        "id": "Jv7Uu7ntvKCU"
      },
      "outputs": [],
      "source": [],
      "id": "Jv7Uu7ntvKCU"
    },
    {
      "cell_type": "code",
      "execution_count": null,
      "metadata": {
        "id": "ifDhhNAKvKCU"
      },
      "outputs": [],
      "source": [
        "model = smp.Unet('xception', encoder_weights='imagenet',decoder_use_batchnorm = False ,classes=23, activation=None, encoder_depth=5, decoder_channels=[ 256, 256,128,64,16])"
      ],
      "id": "ifDhhNAKvKCU"
    },
    {
      "cell_type": "code",
      "execution_count": null,
      "metadata": {
        "id": "nzGpkZTRvKCU"
      },
      "outputs": [],
      "source": [
        "max_lr = 1e-4\n",
        "epoch = 50\n",
        "weight_decay = 1e-4\n",
        "\n",
        "criterion = nn.CrossEntropyLoss()\n",
        "optimizer = torch.optim.AdamW(model.parameters(), lr=max_lr, weight_decay=weight_decay)\n",
        "sched = torch.optim.lr_scheduler.OneCycleLR(optimizer, max_lr, epochs=epoch,\n",
        "                                            steps_per_epoch=len(train_loader))\n",
        "\n",
        "history = fit(epoch, model, train_loader, val_loader, criterion, optimizer, sched)"
      ],
      "id": "nzGpkZTRvKCU"
    },
    {
      "cell_type": "code",
      "execution_count": null,
      "metadata": {
        "id": "F0XW6ILNvKCU"
      },
      "outputs": [],
      "source": [],
      "id": "F0XW6ILNvKCU"
    }
  ],
  "metadata": {
    "kernelspec": {
      "display_name": "Python 3",
      "language": "python",
      "name": "python3"
    },
    "language_info": {
      "codemirror_mode": {
        "name": "ipython",
        "version": 3
      },
      "file_extension": ".py",
      "mimetype": "text/x-python",
      "name": "python",
      "nbconvert_exporter": "python",
      "pygments_lexer": "ipython3",
      "version": "3.8.13"
    },
    "colab": {
      "provenance": []
    },
    "widgets": {
      "application/vnd.jupyter.widget-state+json": {
        "95a9f19237ff4283a8d328e9f210cabf": {
          "model_module": "@jupyter-widgets/controls",
          "model_name": "HBoxModel",
          "model_module_version": "1.5.0",
          "state": {
            "_dom_classes": [],
            "_model_module": "@jupyter-widgets/controls",
            "_model_module_version": "1.5.0",
            "_model_name": "HBoxModel",
            "_view_count": null,
            "_view_module": "@jupyter-widgets/controls",
            "_view_module_version": "1.5.0",
            "_view_name": "HBoxView",
            "box_style": "",
            "children": [
              "IPY_MODEL_20518135a70149428d304d88f7e2c96a",
              "IPY_MODEL_505303a2169f4edc824df1f5ca9034de",
              "IPY_MODEL_d493bb5e72614b2380f10113ceee4c67"
            ],
            "layout": "IPY_MODEL_665a9f5b5a4e4fc592bbedd6cf1cd2a5"
          }
        },
        "20518135a70149428d304d88f7e2c96a": {
          "model_module": "@jupyter-widgets/controls",
          "model_name": "HTMLModel",
          "model_module_version": "1.5.0",
          "state": {
            "_dom_classes": [],
            "_model_module": "@jupyter-widgets/controls",
            "_model_module_version": "1.5.0",
            "_model_name": "HTMLModel",
            "_view_count": null,
            "_view_module": "@jupyter-widgets/controls",
            "_view_module_version": "1.5.0",
            "_view_name": "HTMLView",
            "description": "",
            "description_tooltip": null,
            "layout": "IPY_MODEL_b61f3a17853d4ce29110171ecdf4e541",
            "placeholder": "​",
            "style": "IPY_MODEL_bf57613506dc412c97ca845761710e54",
            "value": "  0%"
          }
        },
        "505303a2169f4edc824df1f5ca9034de": {
          "model_module": "@jupyter-widgets/controls",
          "model_name": "FloatProgressModel",
          "model_module_version": "1.5.0",
          "state": {
            "_dom_classes": [],
            "_model_module": "@jupyter-widgets/controls",
            "_model_module_version": "1.5.0",
            "_model_name": "FloatProgressModel",
            "_view_count": null,
            "_view_module": "@jupyter-widgets/controls",
            "_view_module_version": "1.5.0",
            "_view_name": "ProgressView",
            "bar_style": "danger",
            "description": "",
            "description_tooltip": null,
            "layout": "IPY_MODEL_e599ac5b65684d8190b0d3af3bdf2320",
            "max": 451,
            "min": 0,
            "orientation": "horizontal",
            "style": "IPY_MODEL_dceb0f1970af4ca1b77cc74491313dd8",
            "value": 0
          }
        },
        "d493bb5e72614b2380f10113ceee4c67": {
          "model_module": "@jupyter-widgets/controls",
          "model_name": "HTMLModel",
          "model_module_version": "1.5.0",
          "state": {
            "_dom_classes": [],
            "_model_module": "@jupyter-widgets/controls",
            "_model_module_version": "1.5.0",
            "_model_name": "HTMLModel",
            "_view_count": null,
            "_view_module": "@jupyter-widgets/controls",
            "_view_module_version": "1.5.0",
            "_view_name": "HTMLView",
            "description": "",
            "description_tooltip": null,
            "layout": "IPY_MODEL_2ab6a1edf0de4ee78cc1cf2cb3a395ba",
            "placeholder": "​",
            "style": "IPY_MODEL_ead0e61bbd814c59b6c9d01920b2b068",
            "value": " 0/451 [00:02&lt;?, ?it/s]"
          }
        },
        "665a9f5b5a4e4fc592bbedd6cf1cd2a5": {
          "model_module": "@jupyter-widgets/base",
          "model_name": "LayoutModel",
          "model_module_version": "1.2.0",
          "state": {
            "_model_module": "@jupyter-widgets/base",
            "_model_module_version": "1.2.0",
            "_model_name": "LayoutModel",
            "_view_count": null,
            "_view_module": "@jupyter-widgets/base",
            "_view_module_version": "1.2.0",
            "_view_name": "LayoutView",
            "align_content": null,
            "align_items": null,
            "align_self": null,
            "border": null,
            "bottom": null,
            "display": null,
            "flex": null,
            "flex_flow": null,
            "grid_area": null,
            "grid_auto_columns": null,
            "grid_auto_flow": null,
            "grid_auto_rows": null,
            "grid_column": null,
            "grid_gap": null,
            "grid_row": null,
            "grid_template_areas": null,
            "grid_template_columns": null,
            "grid_template_rows": null,
            "height": null,
            "justify_content": null,
            "justify_items": null,
            "left": null,
            "margin": null,
            "max_height": null,
            "max_width": null,
            "min_height": null,
            "min_width": null,
            "object_fit": null,
            "object_position": null,
            "order": null,
            "overflow": null,
            "overflow_x": null,
            "overflow_y": null,
            "padding": null,
            "right": null,
            "top": null,
            "visibility": null,
            "width": null
          }
        },
        "b61f3a17853d4ce29110171ecdf4e541": {
          "model_module": "@jupyter-widgets/base",
          "model_name": "LayoutModel",
          "model_module_version": "1.2.0",
          "state": {
            "_model_module": "@jupyter-widgets/base",
            "_model_module_version": "1.2.0",
            "_model_name": "LayoutModel",
            "_view_count": null,
            "_view_module": "@jupyter-widgets/base",
            "_view_module_version": "1.2.0",
            "_view_name": "LayoutView",
            "align_content": null,
            "align_items": null,
            "align_self": null,
            "border": null,
            "bottom": null,
            "display": null,
            "flex": null,
            "flex_flow": null,
            "grid_area": null,
            "grid_auto_columns": null,
            "grid_auto_flow": null,
            "grid_auto_rows": null,
            "grid_column": null,
            "grid_gap": null,
            "grid_row": null,
            "grid_template_areas": null,
            "grid_template_columns": null,
            "grid_template_rows": null,
            "height": null,
            "justify_content": null,
            "justify_items": null,
            "left": null,
            "margin": null,
            "max_height": null,
            "max_width": null,
            "min_height": null,
            "min_width": null,
            "object_fit": null,
            "object_position": null,
            "order": null,
            "overflow": null,
            "overflow_x": null,
            "overflow_y": null,
            "padding": null,
            "right": null,
            "top": null,
            "visibility": null,
            "width": null
          }
        },
        "bf57613506dc412c97ca845761710e54": {
          "model_module": "@jupyter-widgets/controls",
          "model_name": "DescriptionStyleModel",
          "model_module_version": "1.5.0",
          "state": {
            "_model_module": "@jupyter-widgets/controls",
            "_model_module_version": "1.5.0",
            "_model_name": "DescriptionStyleModel",
            "_view_count": null,
            "_view_module": "@jupyter-widgets/base",
            "_view_module_version": "1.2.0",
            "_view_name": "StyleView",
            "description_width": ""
          }
        },
        "e599ac5b65684d8190b0d3af3bdf2320": {
          "model_module": "@jupyter-widgets/base",
          "model_name": "LayoutModel",
          "model_module_version": "1.2.0",
          "state": {
            "_model_module": "@jupyter-widgets/base",
            "_model_module_version": "1.2.0",
            "_model_name": "LayoutModel",
            "_view_count": null,
            "_view_module": "@jupyter-widgets/base",
            "_view_module_version": "1.2.0",
            "_view_name": "LayoutView",
            "align_content": null,
            "align_items": null,
            "align_self": null,
            "border": null,
            "bottom": null,
            "display": null,
            "flex": null,
            "flex_flow": null,
            "grid_area": null,
            "grid_auto_columns": null,
            "grid_auto_flow": null,
            "grid_auto_rows": null,
            "grid_column": null,
            "grid_gap": null,
            "grid_row": null,
            "grid_template_areas": null,
            "grid_template_columns": null,
            "grid_template_rows": null,
            "height": null,
            "justify_content": null,
            "justify_items": null,
            "left": null,
            "margin": null,
            "max_height": null,
            "max_width": null,
            "min_height": null,
            "min_width": null,
            "object_fit": null,
            "object_position": null,
            "order": null,
            "overflow": null,
            "overflow_x": null,
            "overflow_y": null,
            "padding": null,
            "right": null,
            "top": null,
            "visibility": null,
            "width": null
          }
        },
        "dceb0f1970af4ca1b77cc74491313dd8": {
          "model_module": "@jupyter-widgets/controls",
          "model_name": "ProgressStyleModel",
          "model_module_version": "1.5.0",
          "state": {
            "_model_module": "@jupyter-widgets/controls",
            "_model_module_version": "1.5.0",
            "_model_name": "ProgressStyleModel",
            "_view_count": null,
            "_view_module": "@jupyter-widgets/base",
            "_view_module_version": "1.2.0",
            "_view_name": "StyleView",
            "bar_color": null,
            "description_width": ""
          }
        },
        "2ab6a1edf0de4ee78cc1cf2cb3a395ba": {
          "model_module": "@jupyter-widgets/base",
          "model_name": "LayoutModel",
          "model_module_version": "1.2.0",
          "state": {
            "_model_module": "@jupyter-widgets/base",
            "_model_module_version": "1.2.0",
            "_model_name": "LayoutModel",
            "_view_count": null,
            "_view_module": "@jupyter-widgets/base",
            "_view_module_version": "1.2.0",
            "_view_name": "LayoutView",
            "align_content": null,
            "align_items": null,
            "align_self": null,
            "border": null,
            "bottom": null,
            "display": null,
            "flex": null,
            "flex_flow": null,
            "grid_area": null,
            "grid_auto_columns": null,
            "grid_auto_flow": null,
            "grid_auto_rows": null,
            "grid_column": null,
            "grid_gap": null,
            "grid_row": null,
            "grid_template_areas": null,
            "grid_template_columns": null,
            "grid_template_rows": null,
            "height": null,
            "justify_content": null,
            "justify_items": null,
            "left": null,
            "margin": null,
            "max_height": null,
            "max_width": null,
            "min_height": null,
            "min_width": null,
            "object_fit": null,
            "object_position": null,
            "order": null,
            "overflow": null,
            "overflow_x": null,
            "overflow_y": null,
            "padding": null,
            "right": null,
            "top": null,
            "visibility": null,
            "width": null
          }
        },
        "ead0e61bbd814c59b6c9d01920b2b068": {
          "model_module": "@jupyter-widgets/controls",
          "model_name": "DescriptionStyleModel",
          "model_module_version": "1.5.0",
          "state": {
            "_model_module": "@jupyter-widgets/controls",
            "_model_module_version": "1.5.0",
            "_model_name": "DescriptionStyleModel",
            "_view_count": null,
            "_view_module": "@jupyter-widgets/base",
            "_view_module_version": "1.2.0",
            "_view_name": "StyleView",
            "description_width": ""
          }
        }
      }
    }
  },
  "nbformat": 4,
  "nbformat_minor": 5
}